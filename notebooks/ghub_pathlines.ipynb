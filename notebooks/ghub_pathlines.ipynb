{
 "cells": [
  {
   "cell_type": "code",
   "execution_count": null,
   "id": "31c07dc5-f5ef-482c-acd1-15fdc98e53ba",
   "metadata": {},
   "outputs": [],
   "source": [
    "from ipyleaflet import Map, basemaps, Marker, WidgetControl\n",
    "\n",
    "from ipywidgets import IntSlider, ColorPicker, Button, link\n",
    "import ipywidgets as widgets\n",
    "\n",
    "from ipyfilechooser import FileChooser\n",
    "\n",
    "from shapely import Point\n",
    "\n",
    "from pathlib import Path\n",
    "import geopandas as gp\n",
    "import numpy as np\n",
    "import xarray as xr\n",
    "from tqdm.auto import tqdm\n",
    "from joblib import Parallel, delayed\n",
    "import pandas as pd\n",
    "\n",
    "from pypism.utils import tqdm_joblib\n",
    "from pypism.pathlines import compute_pathline, row_to_pathline_geopandas_dataframe\n"
   ]
  },
  {
   "cell_type": "code",
   "execution_count": null,
   "id": "ed6144d2-dbc8-44bb-9a53-953c7e111d0b",
   "metadata": {},
   "outputs": [],
   "source": [
    "center = [72, -45]\n",
    "zoom = 2.75\n",
    "crs = \"EPSG:3413\""
   ]
  },
  {
   "cell_type": "code",
   "execution_count": null,
   "id": "7ee7d2c5-3ecf-42ed-8e29-db22f419c5f6",
   "metadata": {},
   "outputs": [],
   "source": [
    "raster_file_widget = widgets.FileUpload(\n",
    "    accept='',  # Accepted file extension e.g. '.txt', '.pdf', 'image/*', 'image/*,.pdf'\n",
    "    multiple=False  # True to accept multiple files upload else False\n",
    ")"
   ]
  },
  {
   "cell_type": "code",
   "execution_count": null,
   "id": "cb15b7d7-5053-49f9-b033-3156659a3a46",
   "metadata": {},
   "outputs": [],
   "source": [
    "raster_file_upload_widget= widgets.Button(\n",
    "    description='Submit',\n",
    "    disabled=False,\n",
    "    button_style='', # 'success', 'info', 'warning', 'danger' or ''\n",
    "    tooltip='Click me',\n",
    "    icon='check'\n",
    ")\n",
    "display(raster_file_upload_widget)"
   ]
  },
  {
   "cell_type": "code",
   "execution_count": null,
   "id": "1bd77082-b860-4120-ad40-39a44c4a3e25",
   "metadata": {},
   "outputs": [],
   "source": [
    "marker = Marker(location=center, draggable=True)"
   ]
  },
  {
   "cell_type": "code",
   "execution_count": null,
   "id": "fd9a072f-94bd-4f84-98b4-b8acd7c6eb30",
   "metadata": {},
   "outputs": [],
   "source": [
    "m = Map(basemap=basemaps.Esri.WorldImagery, center=center, zoom=zoom)\n",
    "m.add(marker)"
   ]
  },
  {
   "cell_type": "code",
   "execution_count": null,
   "id": "c1b89126-7119-440a-8a98-2b152b408495",
   "metadata": {},
   "outputs": [],
   "source": [
    "def on_location_changed(event):\n",
    "    # Do some computation given the new marker location, accessible from `event['new']`\n",
    "    pass\n",
    "\n",
    "marker.observe(on_location_changed, 'location')"
   ]
  },
  {
   "cell_type": "code",
   "execution_count": null,
   "id": "14a40cfe-c6d3-4793-98eb-9811b765b03b",
   "metadata": {},
   "outputs": [],
   "source": [
    "starting_point = gp.GeoSeries(Point(marker.location), crs=\"EPSG:4326\").to_crs(crs)"
   ]
  },
  {
   "cell_type": "code",
   "execution_count": null,
   "id": "9f6d3345-7ea4-42fc-bc2c-632755738d47",
   "metadata": {},
   "outputs": [],
   "source": [
    "main_display = widgets.Output()\n",
    "\n",
    "def show_it(inputs):\n",
    "    with main_display:\n",
    "        main_display.clear_output()\n",
    "        display(list(inputs['new'].keys())[-1])\n",
    "\n",
    "upload = widgets.FileUpload(\n",
    "    accept='.nc',\n",
    "    multiple=False\n",
    ")\n",
    "\n",
    "upload.observe(show_it, names='value')"
   ]
  },
  {
   "cell_type": "code",
   "execution_count": null,
   "id": "271c94f2-a5bd-4e90-931f-34f0836bbebc",
   "metadata": {},
   "outputs": [],
   "source": [
    "display(upload)"
   ]
  },
  {
   "cell_type": "code",
   "execution_count": null,
   "id": "b37b5bd7-a2bf-4fc0-bcfa-bdcaf389e5b8",
   "metadata": {},
   "outputs": [],
   "source": [
    "# Create and display a FileChooser widget\n",
    "fc = FileChooser('.')\n",
    "display(fc)\n"
   ]
  },
  {
   "cell_type": "code",
   "execution_count": null,
   "id": "7a189a99-5b6f-482f-9e18-734f7b2dd542",
   "metadata": {},
   "outputs": [],
   "source": [
    "raster_url = fc.selected"
   ]
  },
  {
   "cell_type": "code",
   "execution_count": null,
   "id": "9226fbc2-c0d5-4d6a-a542-385c14bb45cb",
   "metadata": {},
   "outputs": [],
   "source": [
    "ds = xr.open_dataset(raster_url)"
   ]
  },
  {
   "cell_type": "code",
   "execution_count": null,
   "id": "7d12fbd6-f67b-47e3-9fbb-5b4c17c3c37b",
   "metadata": {},
   "outputs": [],
   "source": [
    "vx_select = widgets.Select(\n",
    "    options=list(ds.data_vars),\n",
    "    value=\"vx\" if \"vx\" in ds.data_vars else None,\n",
    "    # rows=10,\n",
    "    description='velocity x-component:',\n",
    "    disabled=False\n",
    ")\n",
    "vy_select = widgets.Select(\n",
    "    options=list(ds.data_vars),\n",
    "    value=\"vy\" if \"vy\" in ds.data_vars else None,\n",
    "    # rows=10,\n",
    "    description='velocity y-component:',\n",
    "    disabled=False\n",
    ")"
   ]
  },
  {
   "cell_type": "code",
   "execution_count": null,
   "id": "da80faf3-37af-470d-9b59-279d16abefb8",
   "metadata": {},
   "outputs": [],
   "source": [
    "display(vx_select)\n",
    "display(vy_select)"
   ]
  },
  {
   "cell_type": "code",
   "execution_count": null,
   "id": "10f98984-2667-4af5-8d56-e9f811f5856c",
   "metadata": {},
   "outputs": [],
   "source": [
    "vx_varname = vx_select.value\n",
    "vy_varname = vy_select.value"
   ]
  },
  {
   "cell_type": "code",
   "execution_count": null,
   "id": "e6822913-9677-41fd-b193-c6861de77348",
   "metadata": {},
   "outputs": [],
   "source": [
    "Vx = np.squeeze(ds[vx_varname].to_numpy())\n",
    "Vy = np.squeeze(ds[vy_varname].to_numpy())\n",
    "x = ds[\"x\"].to_numpy()\n",
    "y = ds[\"y\"].to_numpy()\n"
   ]
  },
  {
   "cell_type": "code",
   "execution_count": null,
   "id": "d8fb6893-279e-49f2-ae1a-f0081b98422f",
   "metadata": {},
   "outputs": [],
   "source": [
    "dt = 1\n",
    "total_time = 1_000\n",
    "reverse = True"
   ]
  },
  {
   "cell_type": "code",
   "execution_count": null,
   "id": "b5732026-d53d-4a9a-9248-87e0b097ca1d",
   "metadata": {},
   "outputs": [],
   "source": [
    "compute_pathline(\n",
    "                [*starting_point.geometry[0].coords[0]],\n",
    "                Vx,\n",
    "                Vy,\n",
    "                x,\n",
    "                y,\n",
    "                dt=dt,\n",
    "                total_time=total_time,\n",
    "                reverse=reverse,\n",
    "                progress=True,\n",
    "                progress_kwargs= {\"leave\": False, \"position\": 1},\n",
    ")\n"
   ]
  },
  {
   "cell_type": "code",
   "execution_count": null,
   "id": "41bfac49-9dd8-4e79-b23d-bc609e5f1f4e",
   "metadata": {},
   "outputs": [],
   "source": []
  },
  {
   "cell_type": "code",
   "execution_count": null,
   "id": "792c649a-4582-409a-ab03-852ac59cb0ee",
   "metadata": {},
   "outputs": [],
   "source": []
  }
 ],
 "metadata": {
  "kernelspec": {
   "display_name": "Python 3 (ipykernel)",
   "language": "python",
   "name": "python3"
  },
  "language_info": {
   "codemirror_mode": {
    "name": "ipython",
    "version": 3
   },
   "file_extension": ".py",
   "mimetype": "text/x-python",
   "name": "python",
   "nbconvert_exporter": "python",
   "pygments_lexer": "ipython3"
  }
 },
 "nbformat": 4,
 "nbformat_minor": 5
}
