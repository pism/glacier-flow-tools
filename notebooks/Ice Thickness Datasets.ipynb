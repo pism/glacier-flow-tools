{
 "cells": [
  {
   "cell_type": "markdown",
   "id": "06a2c496-6e8e-44ab-a7a1-0c8b4011d46a",
   "metadata": {},
   "source": [
    "# Impact of Bedmachine on ice flow modelling thourgh version 1-5\n",
    "### Group Project International Summer School in Glaciology, McCarthy, June 7-17 2024\n",
    "\n",
    "## **Is Bedmachine getting better?**\n",
    "\n",
    "NASA’s Operation IceBridge (2009-2019) changed our understanding of the subglacial topography beneath the Greenland Ice Sheet. Radar-derived Ice thickness along flightlines have been gridded using kriging and algorithms based on mass conservation, resulting in the now widely-used ”BedMachine Greenland”. A manuscript in 2016 showed that BedMachine Greenland significantly improves the ability of ice flow models to reproduce the flow patterns of Greenland’s outlet glaciers. The study was done using BedMachine version 1, however, the release version is version 5. In this project we will investigate the changes in ice thickness in BedMachine throughout the different versions, and how it affects an ice flow model’s fidelity in reproducing outlet glacier flow. \n",
    "\n"
   ]
  },
  {
   "cell_type": "code",
   "execution_count": null,
   "id": "968ac4c2-94b2-4f5e-9e48-6832f2fa3097",
   "metadata": {},
   "outputs": [],
   "source": [
    "import pylab as plt\n",
    "import xarray as xr\n",
    "import geopandas as gp\n",
    "from functools import partial"
   ]
  },
  {
   "cell_type": "code",
   "execution_count": null,
   "id": "c4fa6ce1-c349-41aa-ac60-1796578d7eba",
   "metadata": {},
   "outputs": [],
   "source": [
    "from glacier_flow_tools.profiles import process_profile\n",
    "from glacier_flow_tools.utils import preprocess_nc"
   ]
  },
  {
   "cell_type": "code",
   "execution_count": null,
   "id": "6d03506c-625c-47cd-9379-a12f6e3abcde",
   "metadata": {},
   "outputs": [],
   "source": [
    "profile_resolution = 1_000  # m"
   ]
  },
  {
   "cell_type": "markdown",
   "id": "f4fab5e4-ab8e-4da6-9745-656df3bf1719",
   "metadata": {},
   "source": [
    "## Load observed and simulated velocities"
   ]
  },
  {
   "cell_type": "code",
   "execution_count": null,
   "id": "7c6d75d7-4da1-4fc6-b037-c92e0b879218",
   "metadata": {},
   "outputs": [],
   "source": [
    "itslive_ds = xr.open_dataset(\"data/its_live_jak.nc\")\n",
    "exp_ds = xr.open_mfdataset(\"../tests/data/velsurf_mag_gris_g9000m_id_*_0_50.nc\",\n",
    "                           preprocess=partial(preprocess_nc,\n",
    "                           drop_dims=[\"z\", \"zb\", \"nv4\"],\n",
    "                           drop_vars=[\"timestamp\", \"shelfbtemp\", \"effective_ice_surface_temp\", \"ice_surface_temp\", \"hardav\", \"nv4\"]), \n",
    "                           concat_dim=\"exp_id\",\n",
    "                           combine=\"nested\",\n",
    "                           chunks=\"auto\",\n",
    "                           engine=\"h5netcdf\",\n",
    "                           decode_times=False,\n",
    "                           parallel=True\n",
    "                          )"
   ]
  },
  {
   "cell_type": "markdown",
   "id": "fee49e19-8306-4bc2-977a-e78ccbbdcc68",
   "metadata": {},
   "source": [
    "## Load profile shapefile"
   ]
  },
  {
   "cell_type": "code",
   "execution_count": null,
   "id": "691c1d3c-0b0f-4698-944b-51bf068b8756",
   "metadata": {},
   "outputs": [],
   "source": [
    "profiles_gp = gp.read_file(\"../glacier_flow_tools/data/greenland-flux-gates-5.gpkg\").rename(columns={\"id\": \"profile_id\", \"name\": \"profile_name\"})\n",
    "geom = profiles_gp.segmentize(profile_resolution)\n",
    "profiles_gp = gp.GeoDataFrame(profiles_gp, geometry=geom)\n",
    "profiles_gp = profiles_gp[[\"profile_id\", \"profile_name\", \"geometry\"]]\n",
    "\n",
    "profile_gp = [p for _, p in profiles_gp.iterrows()][1]"
   ]
  },
  {
   "cell_type": "markdown",
   "id": "0620246f-9ec8-410d-bc19-71ef224267ab",
   "metadata": {},
   "source": [
    "## Plot map-plane view of Jakobshavn gate"
   ]
  },
  {
   "cell_type": "code",
   "execution_count": null,
   "id": "5469888c-01c1-4a1c-94f3-8e74db65a6f4",
   "metadata": {},
   "outputs": [],
   "source": [
    "fig, ax = plt.subplots()\n",
    "itslive_ds[\"v\"].plot(cmap=\"speed_colorblind\", vmin=0, vmax=1500, ax=ax, cbar_kwargs={\"shrink\": 0.75})\n",
    "profiles_gp.plot(ax=ax, color=\"k\")\n",
    "ax.set_title(\"Jakobshavn Flux Gate\\nObserved Speed\")"
   ]
  },
  {
   "cell_type": "code",
   "execution_count": null,
   "id": "43254926-ef9f-4223-8da9-f5d066240d09",
   "metadata": {},
   "outputs": [],
   "source": [
    "jak_profile = process_profile(profile_gp,\n",
    "                itslive_ds,\n",
    "                exp_ds,\n",
    "                compute_profile_normal=True,\n",
    "                stats_kwargs={\"obs_var\": \"v\", \"sim_var\": \"velsurf_mag\"})"
   ]
  },
  {
   "cell_type": "markdown",
   "id": "d12609f9-76e8-4a23-9c4b-f9965f74e4d0",
   "metadata": {},
   "source": [
    "## Plot profile"
   ]
  },
  {
   "cell_type": "code",
   "execution_count": null,
   "id": "f6bec873-8faa-48d2-8293-f56ca303ff7e",
   "metadata": {},
   "outputs": [],
   "source": [
    "jak_profile.profiles.plot(obs_error_var=None, interactive=True, figsize=(8, 8), fontsize=12, \n",
    "                          obs_kwargs={\"lw\": 2, \"color\": \"k\", \"marker\": \"o\", \"ms\": 5}, sim_kwargs={\"lw\": 2, \"marker\": \"o\", \"ms\": 5})"
   ]
  },
  {
   "cell_type": "markdown",
   "id": "65136f0a-b44f-497e-86a0-581fa8e21aa9",
   "metadata": {},
   "source": [
    "## Tasks\n",
    "\n",
    "- Calculate mean absolute error between observations and all simulations"
   ]
  },
  {
   "cell_type": "code",
   "execution_count": null,
   "id": "83e38666-3c41-4545-a25d-0fb24c1274d4",
   "metadata": {},
   "outputs": [],
   "source": []
  }
 ],
 "metadata": {
  "kernelspec": {
   "display_name": "Python 3 (ipykernel)",
   "language": "python",
   "name": "python3"
  },
  "language_info": {
   "codemirror_mode": {
    "name": "ipython",
    "version": 3
   },
   "file_extension": ".py",
   "mimetype": "text/x-python",
   "name": "python",
   "nbconvert_exporter": "python",
   "pygments_lexer": "ipython3"
  }
 },
 "nbformat": 4,
 "nbformat_minor": 5
}
