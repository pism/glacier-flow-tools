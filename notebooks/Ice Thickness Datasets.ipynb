{
 "cells": [
  {
   "cell_type": "markdown",
   "id": "06a2c496-6e8e-44ab-a7a1-0c8b4011d46a",
   "metadata": {},
   "source": [
    "# Impact of Bedmachine on ice flow modelling thourgh version 1-5\n",
    "### Group Project International Summer School in Glaciology, McCarthy, June 7-17 2024\n",
    "\n",
    "## **Is Bedmachine getting better?**\n",
    "\n",
    "NASA’s Operation IceBridge (2009-2019) changed our understanding of the subglacial topography beneath the Greenland Ice Sheet. Radar-derived Ice thickness along flightlines have been gridded using kriging and algorithms based on mass conservation, resulting in the now widely-used ”BedMachine Greenland”. A manuscript in 2016 showed that BedMachine Greenland significantly improves the ability of ice flow models to reproduce the flow patterns of Greenland’s outlet glaciers. The study was done using BedMachine version 1, however, the release version is version 5. In this project we will investigate the changes in ice thickness in BedMachine throughout the different versions, and how it affects an ice flow model’s fidelity in reproducing outlet glacier flow. \n",
    "\n"
   ]
  },
  {
   "cell_type": "code",
   "execution_count": null,
   "id": "968ac4c2-94b2-4f5e-9e48-6832f2fa3097",
   "metadata": {},
   "outputs": [],
   "source": []
  }
 ],
 "metadata": {
  "kernelspec": {
   "display_name": "Python 3 (ipykernel)",
   "language": "python",
   "name": "python3"
  },
  "language_info": {
   "codemirror_mode": {
    "name": "ipython",
    "version": 3
   },
   "file_extension": ".py",
   "mimetype": "text/x-python",
   "name": "python",
   "nbconvert_exporter": "python",
   "pygments_lexer": "ipython3"
  }
 },
 "nbformat": 4,
 "nbformat_minor": 5
}
