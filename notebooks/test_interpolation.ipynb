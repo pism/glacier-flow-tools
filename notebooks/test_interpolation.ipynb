{
 "cells": [
  {
   "cell_type": "markdown",
   "id": "fee54d31",
   "metadata": {},
   "source": [
    "# Test the pathline code"
   ]
  },
  {
   "cell_type": "code",
   "execution_count": null,
   "id": "a1a86d55",
   "metadata": {},
   "outputs": [],
   "source": [
    "import numpy as np\n",
    "import pylab as plt\n",
    "import xarray as xr\n",
    "from pypism.trajectory import compute_trajectory, trajectories_to_geopandas\n",
    "from pypism.interpolation import velocity_at_point\n",
    "from shapely import Point\n",
    "from osgeo import ogr, osr\n",
    "from joblib import Parallel, delayed\n",
    "import geopandas as gp\n",
    "from typing import Union\n",
    "from tqdm.auto import tqdm\n",
    "import pandas as pd"
   ]
  },
  {
   "cell_type": "code",
   "execution_count": null,
   "id": "8eb74282",
   "metadata": {},
   "outputs": [],
   "source": [
    "def create_circular() -> xr.Dataset:\n",
    "    \"\"\"\n",
    "    Create xr.Dataset with radial velocity field\n",
    "    \"\"\"\n",
    "    time = pd.date_range(\"2000-01-01\", periods=1)\n",
    "    reference_time = pd.Timestamp(\"2000-01-01\")\n",
    "\n",
    "    nx = 20_001\n",
    "    ny = 20_001\n",
    "    x = np.linspace(-100e3, 100e3, nx)\n",
    "    y = np.linspace(-100e3, 100e3, ny)\n",
    "    X, Y = np.meshgrid(x, y)\n",
    "\n",
    "    # Directional vectors\n",
    "    vx = -Y / np.sqrt(X**2 + Y**2) * 250\n",
    "    vy = X / np.sqrt(X**2 + Y**2) * 250\n",
    "    v = np.sqrt(vx**2 + vy**2)\n",
    "\n",
    "    vx = vx.reshape(1, ny, nx)\n",
    "    vy = vy.reshape(1, ny, nx)\n",
    "    v = v.reshape(1, ny, nx)\n",
    "\n",
    "    v_err = v / 10\n",
    "    vx_err = np.abs(vx / 20)\n",
    "    vy_err = np.abs(vy / 20)\n",
    "\n",
    "    coords = {\n",
    "        \"x\": (\n",
    "            [\"x\"],\n",
    "            x,\n",
    "            {\n",
    "                \"units\": \"m\",\n",
    "                \"axis\": \"X\",\n",
    "                \"standard_name\": \"projection_x_coordinate\",\n",
    "                \"long_name\": \"x-coordinate in projected coordinate system\",\n",
    "            },\n",
    "        ),\n",
    "        \"y\": (\n",
    "            [\"y\"],\n",
    "            y,\n",
    "            {\n",
    "                \"units\": \"m\",\n",
    "                \"axis\": \"Y\",\n",
    "                \"standard_name\": \"projection_y_coordinate\",\n",
    "                \"long_name\": \"y-coordinate in projected coordinate system\",\n",
    "            },\n",
    "        ),\n",
    "        \"time\": ([\"time\"], time, {}),\n",
    "    }\n",
    "\n",
    "    ds = xr.Dataset(\n",
    "        {\n",
    "            \"vx\": xr.DataArray(\n",
    "                data=vx,\n",
    "                dims=[\"time\", \"y\", \"x\"],\n",
    "                coords=coords,\n",
    "                attrs={\"standard_name\": \"velocity in x-direction\", \"units\": \"m/yr\"},\n",
    "            ),\n",
    "            \"vy\": xr.DataArray(\n",
    "                data=vy,\n",
    "                dims=[\"time\", \"y\", \"x\"],\n",
    "                coords=coords,\n",
    "                attrs={\"standard_name\": \"velocity in y-direction\", \"units\": \"m/yr\"},\n",
    "            ),\n",
    "            \"v\": xr.DataArray(\n",
    "                data=v,\n",
    "                dims=[\"time\", \"y\", \"x\"],\n",
    "                coords=coords,\n",
    "                attrs={\n",
    "                    \"standard_name\": \"magnitude\",\n",
    "                    \"units\": \"m/yr\",\n",
    "                    \"grid_mapping\": \"polar_stereographic\",\n",
    "                },\n",
    "            ),\n",
    "            \"vx_err\": xr.DataArray(\n",
    "                data=vx_err,\n",
    "                dims=[\"time\", \"y\", \"x\"],\n",
    "                coords=coords,\n",
    "                attrs={\"standard_name\": \"velocity in x-direction\", \"units\": \"m/yr\"},\n",
    "            ),\n",
    "            \"vy_err\": xr.DataArray(\n",
    "                data=vy_err,\n",
    "                dims=[\"time\", \"y\", \"x\"],\n",
    "                coords=coords,\n",
    "                attrs={\"standard_name\": \"velocity in y-direction\", \"units\": \"m/yr\"},\n",
    "            ),\n",
    "            \"v_err\": xr.DataArray(\n",
    "                data=v_err,\n",
    "                dims=[\"time\", \"y\", \"x\"],\n",
    "                coords=coords,\n",
    "                attrs={\n",
    "                    \"standard_name\": \"magnitude\",\n",
    "                    \"units\": \"m/yr\",\n",
    "                    \"grid_mapping\": \"polar_stereographic\",\n",
    "                },\n",
    "            ),\n",
    "        },\n",
    "        attrs={\"Conventions\": \"CF-1.7\"},\n",
    "    )\n",
    "    ds[\"Polar_Stereographic\"] = int()\n",
    "    ds.Polar_Stereographic.attrs[\"grid_mapping_name\"] = \"polar_stereographic\"\n",
    "    ds.Polar_Stereographic.attrs[\"false_easting\"] = 0.0\n",
    "    ds.Polar_Stereographic.attrs[\"false_northing\"] = 0.0\n",
    "    ds.Polar_Stereographic.attrs[\"latitude_of_projection_origin\"] = 90.0\n",
    "    ds.Polar_Stereographic.attrs[\"scale_factor_at_projection_origin\"] = 1.0\n",
    "    ds.Polar_Stereographic.attrs[\"standard_parallel\"] = 70.0\n",
    "    ds.Polar_Stereographic.attrs[\"straight_vertical_longitude_from_pole\"] = -45\n",
    "    ds.Polar_Stereographic.attrs[\"proj_params\"] = \"epsg:3413\"\n",
    "    \n",
    "    return ds\n"
   ]
  },
  {
   "cell_type": "code",
   "execution_count": null,
   "id": "4c596a3e",
   "metadata": {},
   "outputs": [],
   "source": [
    "ds = create_circular()\n",
    "Vx = np.squeeze(ds[\"vx\"].to_numpy())\n",
    "Vy = np.squeeze(ds[\"vy\"].to_numpy())\n",
    "V = np.squeeze(ds[\"v\"].to_numpy())\n",
    "x = ds[\"x\"].to_numpy()\n",
    "y = ds[\"y\"].to_numpy()\n",
    "nx = len(x)\n",
    "ny = len(y)"
   ]
  },
  {
   "cell_type": "markdown",
   "id": "d2d54f5f",
   "metadata": {},
   "source": [
    "## Create doc-string examples"
   ]
  },
  {
   "cell_type": "code",
   "execution_count": null,
   "id": "00415419",
   "metadata": {},
   "outputs": [],
   "source": [
    "import numpy as np\n",
    "from shapely import Point\n",
    "\n",
    "nx = 201\n",
    "ny = 401\n",
    "x = np.linspace(-100e3, 100e3, nx)\n",
    "y = np.linspace(-100e3, 100e3, ny)\n",
    "X, Y = np.meshgrid(x, y)\n",
    "\n",
    "# Directional vectors\n",
    "vx = -Y / np.sqrt(X**2 + Y**2) * 250\n",
    "vy = X / np.sqrt(X**2 + Y**2) * 250\n",
    "\n",
    "p = Point(0, -50000)\n",
    "\n",
    "pts, pts_error_estim = compute_trajectory(p, vx, vx, x, y, dt=1, total_time=10)"
   ]
  },
  {
   "cell_type": "code",
   "execution_count": null,
   "id": "2626a4c2",
   "metadata": {},
   "outputs": [],
   "source": [
    "dt_trajs[0][0]"
   ]
  },
  {
   "cell_type": "code",
   "execution_count": null,
   "id": "96fb4294",
   "metadata": {},
   "outputs": [],
   "source": [
    "starting_point = Point(0, -1_000)\n",
    "r = starting_point.distance(Point(0, 0))\n",
    "circ = 2 * r * np.pi\n",
    "vx, vy = velocity_at_point(Vx, Vy, x, y, starting_point)\n",
    "v = np.sqrt(vx**2 + vy**2)\n",
    "total_time = circ / v    \n",
    "\n",
    "dts = np.logspace(-3, 2, 6)\n",
    "dt_trajs = {}\n",
    "\n",
    "progress = tqdm(dts, total=len(dts), leave=False, position=0)\n",
    "for dt in progress:\n",
    "    progress.set_description(f\"Time step {dt}\")\n",
    "    pts, pts_error_estim = compute_trajectory(starting_point, Vx, Vy, x, y, total_time=total_time+dt, dt=dt, reverse=True)\n",
    "    dt_trajs[dt] = pts\n"
   ]
  },
  {
   "cell_type": "code",
   "execution_count": null,
   "id": "01fdd97a",
   "metadata": {},
   "outputs": [],
   "source": [
    "fig, ax = plt.subplots(1, 1)\n",
    "dists =[]\n",
    "for dt, traj in dt_trajs.items():\n",
    "    dist = traj[-1].distance(traj[0])\n",
    "    dists.append(dist)\n",
    "    ax.plot(dt, dist, \".\")\n",
    "    ax.set_xscale(\"log\")\n",
    "    ax.set_yscale(\"log\")\n",
    "dists = np.array(dists)"
   ]
  },
  {
   "cell_type": "code",
   "execution_count": null,
   "id": "83fb8206",
   "metadata": {},
   "outputs": [],
   "source": [
    "np.diff(dists) / dists[1:]"
   ]
  },
  {
   "cell_type": "code",
   "execution_count": null,
   "id": "18720969",
   "metadata": {},
   "outputs": [],
   "source": [
    "dists[1:]"
   ]
  },
  {
   "cell_type": "code",
   "execution_count": null,
   "id": "139def0b",
   "metadata": {},
   "outputs": [],
   "source": [
    "dts"
   ]
  },
  {
   "cell_type": "code",
   "execution_count": null,
   "id": "b456864b",
   "metadata": {},
   "outputs": [],
   "source": [
    "vx"
   ]
  },
  {
   "cell_type": "code",
   "execution_count": null,
   "id": "977052ae",
   "metadata": {},
   "outputs": [],
   "source": []
  },
  {
   "cell_type": "code",
   "execution_count": null,
   "id": "2c796330",
   "metadata": {},
   "outputs": [],
   "source": [
    "traj"
   ]
  },
  {
   "cell_type": "code",
   "execution_count": null,
   "id": "17a2624b",
   "metadata": {},
   "outputs": [],
   "source": [
    "def create_linear() -> xr.Dataset:\n",
    "    \"\"\"\n",
    "    Create xr.Dataset with radial velocity field\n",
    "    \"\"\"\n",
    "    time = pd.date_range(\"2000-01-01\", periods=1)\n",
    "    reference_time = pd.Timestamp(\"2000-01-01\")\n",
    "\n",
    "    nx = 201\n",
    "    ny = 201\n",
    "    x_min = -1\n",
    "    x_max = 1\n",
    "    y_min = -1\n",
    "    y_max = 1\n",
    "    x = np.linspace(x_min, x_max, nx)\n",
    "    y = np.linspace(y_min, y_max, ny)\n",
    "    X, Y = np.meshgrid(x, y)\n",
    "\n",
    "    # Directional vectors\n",
    "    vx = X\n",
    "    vy = -Y\n",
    "    v = np.sqrt(vx**2 + vy**2)\n",
    "\n",
    "    vx = vx.reshape(1, ny, nx)\n",
    "    vy = vy.reshape(1, ny, nx)\n",
    "    v = v.reshape(1, ny, nx)\n",
    "\n",
    "    v_err = v / 10\n",
    "    vx_err = np.abs(vx / 20)\n",
    "    vy_err = np.abs(vy / 20)\n",
    "\n",
    "    coords = {\n",
    "        \"x\": (\n",
    "            [\"x\"],\n",
    "            x,\n",
    "            {\n",
    "                \"units\": \"m\",\n",
    "                \"axis\": \"X\",\n",
    "                \"standard_name\": \"projection_x_coordinate\",\n",
    "                \"long_name\": \"x-coordinate in projected coordinate system\",\n",
    "            },\n",
    "        ),\n",
    "        \"y\": (\n",
    "            [\"y\"],\n",
    "            y,\n",
    "            {\n",
    "                \"units\": \"m\",\n",
    "                \"axis\": \"Y\",\n",
    "                \"standard_name\": \"projection_y_coordinate\",\n",
    "                \"long_name\": \"y-coordinate in projected coordinate system\",\n",
    "            },\n",
    "        ),\n",
    "        \"time\": ([\"time\"], time, {}),\n",
    "    }\n",
    "\n",
    "    ds = xr.Dataset(\n",
    "        {\n",
    "            \"vx\": xr.DataArray(\n",
    "                data=vx,\n",
    "                dims=[\"time\", \"y\", \"x\"],\n",
    "                coords=coords,\n",
    "                attrs={\"standard_name\": \"velocity in x-direction\", \"units\": \"m/yr\"},\n",
    "            ),\n",
    "            \"vy\": xr.DataArray(\n",
    "                data=vy,\n",
    "                dims=[\"time\", \"y\", \"x\"],\n",
    "                coords=coords,\n",
    "                attrs={\"standard_name\": \"velocity in y-direction\", \"units\": \"m/yr\"},\n",
    "            ),\n",
    "            \"v\": xr.DataArray(\n",
    "                data=v,\n",
    "                dims=[\"time\", \"y\", \"x\"],\n",
    "                coords=coords,\n",
    "                attrs={\n",
    "                    \"standard_name\": \"magnitude\",\n",
    "                    \"units\": \"m/yr\",\n",
    "                    \"grid_mapping\": \"polar_stereographic\",\n",
    "                },\n",
    "            ),\n",
    "            \"vx_err\": xr.DataArray(\n",
    "                data=vx_err,\n",
    "                dims=[\"time\", \"y\", \"x\"],\n",
    "                coords=coords,\n",
    "                attrs={\"standard_name\": \"velocity in x-direction\", \"units\": \"m/yr\"},\n",
    "            ),\n",
    "            \"vy_err\": xr.DataArray(\n",
    "                data=vy_err,\n",
    "                dims=[\"time\", \"y\", \"x\"],\n",
    "                coords=coords,\n",
    "                attrs={\"standard_name\": \"velocity in y-direction\", \"units\": \"m/yr\"},\n",
    "            ),\n",
    "            \"v_err\": xr.DataArray(\n",
    "                data=v_err,\n",
    "                dims=[\"time\", \"y\", \"x\"],\n",
    "                coords=coords,\n",
    "                attrs={\n",
    "                    \"standard_name\": \"magnitude\",\n",
    "                    \"units\": \"m/yr\",\n",
    "                    \"grid_mapping\": \"polar_stereographic\",\n",
    "                },\n",
    "            ),\n",
    "        },\n",
    "        attrs={\"Conventions\": \"CF-1.7\"},\n",
    "    )\n",
    "    ds[\"Polar_Stereographic\"] = int()\n",
    "    ds.Polar_Stereographic.attrs[\"grid_mapping_name\"] = \"polar_stereographic\"\n",
    "    ds.Polar_Stereographic.attrs[\"false_easting\"] = 0.0\n",
    "    ds.Polar_Stereographic.attrs[\"false_northing\"] = 0.0\n",
    "    ds.Polar_Stereographic.attrs[\"latitude_of_projection_origin\"] = 90.0\n",
    "    ds.Polar_Stereographic.attrs[\"scale_factor_at_projection_origin\"] = 1.0\n",
    "    ds.Polar_Stereographic.attrs[\"standard_parallel\"] = 70.0\n",
    "    ds.Polar_Stereographic.attrs[\"straight_vertical_longitude_from_pole\"] = -45\n",
    "    ds.Polar_Stereographic.attrs[\"proj_params\"] = \"epsg:3413\"\n",
    "    \n",
    "    return ds\n"
   ]
  },
  {
   "cell_type": "code",
   "execution_count": null,
   "id": "ddf2b943",
   "metadata": {},
   "outputs": [],
   "source": [
    "ds = create_linear()"
   ]
  },
  {
   "cell_type": "markdown",
   "id": "ce30d6b6",
   "metadata": {},
   "source": [
    "\n"
   ]
  },
  {
   "cell_type": "markdown",
   "id": "7c4d4e56",
   "metadata": {},
   "source": [
    "$$\\frac{\\mathrm{d}\\mathbf{r}}{\\mathrm{d}t} = \\mathbf{u} = x\\mathbf{i}  - y \\mathbf{j} $$\n",
    "\n",
    "$$\\mathbf{r}(t) = \\mathbf{r}_0 + \\int_{0}^{t'} \\mathbf{u}(t') \\mathrm{d}t'$$\n",
    "\n",
    "$$\\mathbf{r}(t) = \\mathbf{r}(t_0) \\left(e^{t}\\mathbf{i} + e^{-t}\\mathbf{j}\\right)$$"
   ]
  },
  {
   "cell_type": "code",
   "execution_count": null,
   "id": "53170847",
   "metadata": {},
   "outputs": [],
   "source": [
    "Vx = np.squeeze(ds[\"vx\"].to_numpy())\n",
    "Vy = np.squeeze(ds[\"vy\"].to_numpy())\n",
    "V = np.squeeze(ds[\"v\"].to_numpy())\n",
    "x = ds[\"x\"].to_numpy()\n",
    "y = ds[\"y\"].to_numpy()\n",
    "nx = len(x)\n",
    "ny = len(y)\n",
    "total_time = np.exp(1)\n",
    "starting_point = Point(0.05, 0.95)\n",
    "pts, pts_error_estim = compute_trajectory(starting_point, Vx, Vy, x, y, total_time=total_time, dt=dt)"
   ]
  },
  {
   "cell_type": "code",
   "execution_count": null,
   "id": "33b2ee19",
   "metadata": {},
   "outputs": [],
   "source": [
    "def exact_solution(x0, t):\n",
    "    x = x0.x * np.exp(t)\n",
    "    y = x0.y * np.exp(-t)\n",
    "    return Point(x, y)"
   ]
  },
  {
   "cell_type": "code",
   "execution_count": null,
   "id": "156dd141",
   "metadata": {},
   "outputs": [],
   "source": [
    "r_exact = exact_solution(starting_point, total_time)"
   ]
  },
  {
   "cell_type": "code",
   "execution_count": null,
   "id": "000226c4",
   "metadata": {},
   "outputs": [],
   "source": [
    "fig, ax = plt.subplots(1, 1, figsize=(12, 12))\n",
    "ds[\"v\"].plot(ax=ax)\n",
    "ax.scatter([p.x for p in pts], [p.y for p in pts], c=\"k\", s=2)\n",
    "ax.scatter(r_exact.x, r_exact.y, c=\"r\")"
   ]
  },
  {
   "cell_type": "code",
   "execution_count": null,
   "id": "58fc0840",
   "metadata": {},
   "outputs": [],
   "source": [
    "diffs = []\n",
    "for dt in [1, 0.1, 0.001]:\n",
    "    pts, pts_error_estim = compute_trajectory(starting_point, Vx, Vy, x, y, total_time=total_time, dt=dt)\n",
    "    diffs.append(r_exact.distance(pts[-1]))"
   ]
  },
  {
   "cell_type": "code",
   "execution_count": null,
   "id": "ceb5f841",
   "metadata": {},
   "outputs": [],
   "source": [
    "plt.scatter([1, 0.1, 0.001], diffs)"
   ]
  },
  {
   "cell_type": "code",
   "execution_count": null,
   "id": "39eef1e4",
   "metadata": {},
   "outputs": [],
   "source": []
  },
  {
   "cell_type": "code",
   "execution_count": null,
   "id": "5e081ff4",
   "metadata": {},
   "outputs": [],
   "source": []
  }
 ],
 "metadata": {
  "kernelspec": {
   "display_name": "Python 3 (ipykernel)",
   "language": "python",
   "name": "python3"
  },
  "language_info": {
   "codemirror_mode": {
    "name": "ipython",
    "version": 3
   },
   "file_extension": ".py",
   "mimetype": "text/x-python",
   "name": "python",
   "nbconvert_exporter": "python",
   "pygments_lexer": "ipython3"
  }
 },
 "nbformat": 4,
 "nbformat_minor": 5
}
