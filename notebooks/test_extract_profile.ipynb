{
 "cells": [
  {
   "cell_type": "code",
   "execution_count": 43,
   "id": "1944771d",
   "metadata": {},
   "outputs": [],
   "source": [
    "import numpy as np\n",
    "import pandas as pd\n",
    "import xarray as xr\n",
    "from itertools import permutations\n",
    "import pyproj\n",
    "from typing import Union\n",
    "from osgeo import gdal, ogr, osr\n",
    "from pathlib import Path\n",
    "from pypism.extract_profile import normal, tangential"
   ]
  },
  {
   "cell_type": "code",
   "execution_count": 28,
   "id": "a641f41f",
   "metadata": {},
   "outputs": [],
   "source": [
    "    def F(x, y, z):\n",
    "        \"\"\"A function linear in x, y, and z. Used to test our interpolation\n",
    "        scheme.\"\"\"\n",
    "        return 10.0 + 0.01 * x + 0.02 * y + 0.03 + 0.04 * z\n",
    "\n"
   ]
  },
  {
   "cell_type": "code",
   "execution_count": 29,
   "id": "d2be9a2e",
   "metadata": {},
   "outputs": [],
   "source": [
    "def create_dummy_input_dataset(F) -> xr.Dataset:\n",
    "    \"\"\"Create an input file for testing. Does not use unlimited\n",
    "    dimensions, creates one time record only.\"\"\"\n",
    "\n",
    "    Mx = 88\n",
    "    My = 152\n",
    "    Mz = 11\n",
    "    Mt = 1\n",
    "\n",
    "    # use X and Y ranges corresponding to a grid covering Greenland\n",
    "    x = np.linspace(-669650.0, 896350.0, Mx)\n",
    "    y = np.linspace(-3362600.0, -644600.0, My)\n",
    "    z = np.linspace(0, 4000.0, Mz)\n",
    "\n",
    "    xx, yy = np.meshgrid(x, y)\n",
    "\n",
    "    def write(dimensions: list):\n",
    "        \"Write test data to the file using given storage order.\"\n",
    "\n",
    "        slices: dict[str, Any] = {\n",
    "            \"x\": slice(0, Mx),\n",
    "            \"y\": slice(0, My),\n",
    "            \"time\": 0,\n",
    "            \"z\": None,\n",
    "        }\n",
    "        dim_map = {\"x\": Mx, \"y\": My, \"z\": Mz, \"time\": Mt}\n",
    "\n",
    "        # set indexes for all dimensions (z index will be re-set below)\n",
    "        indexes: list[Any] = [Ellipsis] * len(dimensions)\n",
    "        for k, d in enumerate(dimensions):\n",
    "            indexes[k] = slices[d]\n",
    "\n",
    "        # transpose 2D array if needed\n",
    "        if dimensions.index(\"y\") < dimensions.index(\"x\"):\n",
    "\n",
    "            def T(x):\n",
    "                return x\n",
    "\n",
    "        else:\n",
    "            T = np.transpose\n",
    "\n",
    "        dims = [dim_map[d] for d in dimensions]\n",
    "        variable = np.zeros(dims)\n",
    "        if \"z\" in dimensions:\n",
    "            for k in range(Mz):\n",
    "                indexes[dimensions.index(\"z\")] = k\n",
    "                variable[*indexes] = T(F(xx, yy, z[k]))\n",
    "        else:\n",
    "            variable[*indexes] = T(F(xx, yy, 0))\n",
    "\n",
    "        return (dimensions, variable, {\"long_name\": name + \" (make it long!)\"})\n",
    "\n",
    "    def P(x):\n",
    "        return list(permutations(x))\n",
    "\n",
    "    data_vars = {}\n",
    "    for d in sorted(P([\"x\", \"y\"]) + P([\"time\", \"x\", \"y\"])):\n",
    "        prefix = \"test_2D_\"\n",
    "        name = prefix + \"_\".join(d)\n",
    "        data_vars[name] = write(d)\n",
    "\n",
    "    for d in sorted(P([\"x\", \"y\", \"z\"]) + P([\"time\", \"x\", \"y\", \"z\"])):\n",
    "        prefix = \"test_3D_\"\n",
    "        name = prefix + \"_\".join(d)\n",
    "        data_vars[name] = write(d)\n",
    "\n",
    "    ds = xr.Dataset(\n",
    "        data_vars=data_vars,\n",
    "        coords={\n",
    "            \"time\": ([\"time\"], [0], {}),\n",
    "            \"z\": ([\"z\"], z, {\"_FillValue\": False, \"units\": \"m\"}),\n",
    "            \"y\": (\n",
    "                [\"y\"],\n",
    "                y,\n",
    "                {\n",
    "                    \"_FillValue\": False,\n",
    "                    \"units\": \"m\",\n",
    "                    \"axis\": \"Y\",\n",
    "                    \"standard_name\": \"projection_y_coordinate\",\n",
    "                },\n",
    "            ),\n",
    "            \"x\": (\n",
    "                [\"x\"],\n",
    "                x,\n",
    "                {\n",
    "                    \"_FillValue\": False,\n",
    "                    \"units\": \"m\",\n",
    "                    \"axis\": \"X\",\n",
    "                    \"standard_name\": \"projection_x_coordinate\",\n",
    "                },\n",
    "            ),\n",
    "        },\n",
    "        attrs={\"description\": \"Test data.\", \"proj\": \"epsg:3413\", \"proj4\": \"epsg:3413\"},\n",
    "    )\n",
    "    return ds\n"
   ]
  },
  {
   "cell_type": "code",
   "execution_count": 30,
   "id": "1acde809",
   "metadata": {},
   "outputs": [],
   "source": [
    "dummy_input_dataset = create_dummy_input_dataset(F)"
   ]
  },
  {
   "cell_type": "code",
   "execution_count": 34,
   "id": "c0e0227f",
   "metadata": {},
   "outputs": [],
   "source": [
    "    \"Create a dummy profile for testing.\"\n",
    "\n",
    "    x = dummy_input_dataset[\"x\"]\n",
    "    y = dummy_input_dataset[\"y\"]\n",
    "    proj = dummy_input_dataset.proj\n",
    "    projection = pyproj.Proj(str(proj))\n",
    "\n",
    "    n_points = 4\n",
    "    # move points slightly to make sure we can interpolate\n",
    "    epsilon = 0.1\n",
    "    x_profile = np.linspace(x[0] + epsilon, x[-1] - epsilon, n_points)\n",
    "    y_profile = np.linspace(y[0] + epsilon, y[-1] - epsilon, n_points)\n",
    "    x_center = 0.5 * (x_profile[0] + x_profile[-1])\n",
    "    y_center = 0.5 * (y_profile[0] + y_profile[-1])\n",
    "\n",
    "    lon, lat = projection(x_profile, y_profile, inverse=True)\n",
    "    clon, clat = projection(x_center, y_center, inverse=True)\n",
    "\n",
    "    flightline = 2\n",
    "    glaciertype = 4\n",
    "    flowtype = 2\n",
    "\n",
    "    p = Profile(\n",
    "        0,\n",
    "        \"test profile\",\n",
    "        lat,\n",
    "        lon,\n",
    "        clat,\n",
    "        clon,\n",
    "        flightline,\n",
    "        glaciertype,\n",
    "        flowtype,\n",
    "        projection,\n",
    "    )\n"
   ]
  },
  {
   "cell_type": "code",
   "execution_count": 35,
   "id": "4c916118",
   "metadata": {},
   "outputs": [
    {
     "data": {
      "text/plain": [
       "<__main__.Profile at 0x11e618290>"
      ]
     },
     "execution_count": 35,
     "metadata": {},
     "output_type": "execute_result"
    }
   ],
   "source": [
    "p.c"
   ]
  },
  {
   "cell_type": "code",
   "execution_count": 21,
   "id": "2aa84010",
   "metadata": {},
   "outputs": [
    {
     "data": {
      "text/plain": [
       "71.62733345812714"
      ]
     },
     "execution_count": 21,
     "metadata": {},
     "output_type": "execute_result"
    }
   ],
   "source": [
    "p.center_lat"
   ]
  },
  {
   "cell_type": "code",
   "execution_count": 61,
   "id": "cd3daa86",
   "metadata": {},
   "outputs": [],
   "source": [
    "class Profile():\n",
    "\n",
    "    \"\"\"Collects information about a profile, that is a sequence of points\n",
    "    along a flux gate or a flightline.\n",
    "\n",
    "    \"\"\"\n",
    "\n",
    "    def __init__(\n",
    "        self,\n",
    "        id: int,\n",
    "        name: str,\n",
    "        lat: Union[float, np.ndarray],\n",
    "        lon: Union[float, np.ndarray],\n",
    "        center_lat: float,\n",
    "        center_lon: float,\n",
    "        flightline: int,\n",
    "        glaciertype: int,\n",
    "        flowtype: int,\n",
    "        projection: str,\n",
    "        flip: bool = False,\n",
    "    ):\n",
    "        self.id = id\n",
    "        self.name = name\n",
    "        self.center_lat = center_lat\n",
    "        self.center_lon = center_lon\n",
    "        self.flightline = flightline\n",
    "        self.glaciertype = glaciertype\n",
    "        self.flowtype = flowtype\n",
    "\n",
    "        try:\n",
    "            lon[0]\n",
    "        except:\n",
    "            lon = [lon]\n",
    "\n",
    "        try:\n",
    "            lat[0]\n",
    "        except:\n",
    "            lat = [lat]\n",
    "\n",
    "        assert len(lon) == len(lat)\n",
    "\n",
    "        if flip:\n",
    "            self.lat = lat[::-1]\n",
    "            self.lon = lon[::-1]\n",
    "        else:\n",
    "            self.lat = lat\n",
    "            self.lon = lon\n",
    "        self.x, self.y = projection(lon, lat)\n",
    "\n",
    "        self.distance_from_start = self._distance_from_start()\n",
    "        self.nx, self.ny = self._compute_normals()\n",
    "        self.tx, self.ty = self._compute_tangentials()\n",
    "\n",
    "    def _compute_normals(self):\n",
    "        \"\"\"\n",
    "        Compute normals to a flux gate described by 'p'. Normals point 'to\n",
    "        the right' of the path.\n",
    "        \"\"\"\n",
    "\n",
    "        p = np.vstack((self.x, self.y)).T\n",
    "\n",
    "        if len(p) < 2:\n",
    "            return [0], [0]\n",
    "\n",
    "        ns = np.zeros_like(p)\n",
    "        ns[0] = normal(p[0], p[1])\n",
    "        for j in range(1, len(p) - 1):\n",
    "            ns[j] = normal(p[j - 1], p[j + 1])\n",
    "\n",
    "        ns[-1] = normal(p[-2], p[-1])\n",
    "\n",
    "        return ns[:, 0], ns[:, 1]\n",
    "\n",
    "    def _compute_tangentials(self):\n",
    "        \"\"\"\n",
    "        Compute tangetials to a flux gate described by 'p'.\n",
    "        \"\"\"\n",
    "\n",
    "        p = np.vstack((self.x, self.y)).T\n",
    "\n",
    "        if len(p) < 2:\n",
    "            return [0], [0]\n",
    "\n",
    "        ts = np.zeros_like(p)\n",
    "        ts[0] = tangential(p[0], p[1])\n",
    "        for j in range(1, len(p) - 1):\n",
    "            ts[j] = tangential(p[j - 1], p[j + 1])\n",
    "\n",
    "        ts[-1] = tangential(p[-2], p[-1])\n",
    "\n",
    "        return ts[:, 0], ts[:, 1]\n",
    "\n",
    "    def _distance_from_start(self):\n",
    "        \"Initialize the distance along a profile.\"\n",
    "        result = np.zeros_like(self.x)\n",
    "        result[1::] = np.sqrt(np.diff(self.x) ** 2 + np.diff(self.y) ** 2)\n",
    "        return result.cumsum()\n"
   ]
  },
  {
   "cell_type": "code",
   "execution_count": 53,
   "id": "00eb208c",
   "metadata": {},
   "outputs": [
    {
     "name": "stdout",
     "output_type": "stream",
     "text": [
      "Spatial Reference System in ../tests/data/greenland-flux-gates-29_500m.gpkg is not latlon. Converting.\n"
     ]
    }
   ],
   "source": [
    "\n",
    "f = read_shapefile(Path(\"../tests/data/greenland-flux-gates-29_500m.gpkg\"))"
   ]
  },
  {
   "cell_type": "code",
   "execution_count": 59,
   "id": "c86c87e3",
   "metadata": {},
   "outputs": [],
   "source": [
    "def test_read_shapefile():\n",
    "\n",
    "    filenames = [Path(\"../tests/data/greenland-flux-gates-29_500m.shp\"), Path(\"../tests/data/greenland-flux-gates-29_500m.gpkg\")]\n",
    "\n",
    "    for filename in filenames:\n",
    "\n",
    "        profiles = read_shapefile(filename)\n",
    "        \n",
    "        assert len(profiles) == 28\n"
   ]
  },
  {
   "cell_type": "code",
   "execution_count": 60,
   "id": "cdddb500",
   "metadata": {},
   "outputs": [
    {
     "name": "stdout",
     "output_type": "stream",
     "text": [
      "Spatial Reference System in ../tests/data/greenland-flux-gates-29_500m.shp is not latlon. Converting.\n",
      "Spatial Reference System in ../tests/data/greenland-flux-gates-29_500m.gpkg is not latlon. Converting.\n"
     ]
    }
   ],
   "source": [
    "test_read_shapefile()"
   ]
  },
  {
   "cell_type": "code",
   "execution_count": 54,
   "id": "1c38567d",
   "metadata": {},
   "outputs": [
    {
     "data": {
      "text/plain": [
       "28"
      ]
     },
     "execution_count": 54,
     "metadata": {},
     "output_type": "execute_result"
    }
   ],
   "source": [
    "len(f)"
   ]
  },
  {
   "cell_type": "code",
   "execution_count": 56,
   "id": "9addc777",
   "metadata": {},
   "outputs": [
    {
     "data": {
      "text/plain": [
       "[[66.33191641435869,\n",
       "  66.33620492209785,\n",
       "  66.34049346387123,\n",
       "  66.34478203964998,\n",
       "  66.34907064940536,\n",
       "  66.35335929310848,\n",
       "  66.3576479707305,\n",
       "  66.36193668224257,\n",
       "  66.3662254276158,\n",
       "  66.37051420682134,\n",
       "  66.37480301983022,\n",
       "  66.37909186661358,\n",
       "  66.38338074714245,\n",
       "  66.3876696613879,\n",
       "  66.391958609321,\n",
       "  66.39624759091271,\n",
       "  66.40053660613408],\n",
       " [-38.27358599884209,\n",
       "  -38.27149223089385,\n",
       "  -38.26939768273915,\n",
       "  -38.26730235394739,\n",
       "  -38.2652062440877,\n",
       "  -38.26310935272887,\n",
       "  -38.261011679439385,\n",
       "  -38.258913223787424,\n",
       "  -38.256813985340834,\n",
       "  -38.25471396366718,\n",
       "  -38.25261315833366,\n",
       "  -38.25051156890722,\n",
       "  -38.24840919495445,\n",
       "  -38.24630603604163,\n",
       "  -38.24420209173473,\n",
       "  -38.242097361599406,\n",
       "  -38.239991845201004],\n",
       " 20,\n",
       " 'Helheimgletscher',\n",
       " 66.05382,\n",
       " -32.297,\n",
       " 2,\n",
       " 0,\n",
       " 0]"
      ]
     },
     "execution_count": 56,
     "metadata": {},
     "output_type": "execute_result"
    }
   ],
   "source": [
    "f[0]"
   ]
  },
  {
   "cell_type": "code",
   "execution_count": null,
   "id": "e386be36",
   "metadata": {},
   "outputs": [],
   "source": []
  }
 ],
 "metadata": {
  "kernelspec": {
   "display_name": "Python 3 (ipykernel)",
   "language": "python",
   "name": "python3"
  },
  "language_info": {
   "codemirror_mode": {
    "name": "ipython",
    "version": 3
   },
   "file_extension": ".py",
   "mimetype": "text/x-python",
   "name": "python",
   "nbconvert_exporter": "python",
   "pygments_lexer": "ipython3",
   "version": "3.11.6"
  }
 },
 "nbformat": 4,
 "nbformat_minor": 5
}
