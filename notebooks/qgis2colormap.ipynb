{
 "cells": [
  {
   "cell_type": "markdown",
   "id": "0cab2f7a-d75f-46ea-8066-ca6bba2cb656",
   "metadata": {},
   "source": [
    "# Example using qgis2colormap"
   ]
  },
  {
   "cell_type": "code",
   "execution_count": null,
   "id": "d2302162",
   "metadata": {},
   "outputs": [],
   "source": [
    "import numpy as np\n",
    "import pylab as plt\n",
    "from pathlib import Path\n",
    "from pypism.utils import qgis2cmap"
   ]
  },
  {
   "cell_type": "code",
   "execution_count": null,
   "id": "6447a078",
   "metadata": {},
   "outputs": [],
   "source": [
    "qgis_colormap = Path(\"../tests/data/test_qgis_colorramp.txt\")\n",
    "cmap = qgis2cmap(qgis_colormap, name=\"speeds\")"
   ]
  },
  {
   "cell_type": "code",
   "execution_count": null,
   "id": "a38ccfc6-e1f3-4f20-ace5-0536c52abf8b",
   "metadata": {},
   "outputs": [],
   "source": [
    "cmap"
   ]
  },
  {
   "cell_type": "code",
   "execution_count": null,
   "id": "30365862",
   "metadata": {},
   "outputs": [],
   "source": [
    "nx, ny = 100, 100\n",
    "x = np.linspace(-1000, 1000, nx)\n",
    "y = np.linspace(-1000, 1000, ny)\n",
    "X, Y = np.meshgrid(x, y)\n",
    "C = np.sqrt(X**2 + Y**2)\n",
    "fig = plt.figure()\n",
    "ax = fig.add_subplot()\n",
    "c = ax.imshow(C, cmap=cmap, vmin=0, vmax=1500)\n",
    "plt.colorbar(c)"
   ]
  },
  {
   "cell_type": "code",
   "execution_count": null,
   "id": "7f054a3d-93d3-4468-b653-04a84acb0b4e",
   "metadata": {},
   "outputs": [],
   "source": [
    "qgis2cmap?"
   ]
  },
  {
   "cell_type": "code",
   "execution_count": null,
   "id": "77f93218-56aa-4c56-9a27-e2e12d689400",
   "metadata": {},
   "outputs": [],
   "source": []
  }
 ],
 "metadata": {
  "kernelspec": {
   "display_name": "Python 3 (ipykernel)",
   "language": "python",
   "name": "python3"
  },
  "language_info": {
   "codemirror_mode": {
    "name": "ipython",
    "version": 3
   },
   "file_extension": ".py",
   "mimetype": "text/x-python",
   "name": "python",
   "nbconvert_exporter": "python",
   "pygments_lexer": "ipython3"
  }
 },
 "nbformat": 4,
 "nbformat_minor": 5
}
