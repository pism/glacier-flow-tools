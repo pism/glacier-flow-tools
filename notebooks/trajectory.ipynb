{
 "cells": [
  {
   "cell_type": "markdown",
   "id": "da710a4b",
   "metadata": {},
   "source": [
    "# Basic trajectory example"
   ]
  },
  {
   "cell_type": "code",
   "execution_count": null,
   "id": "a88d95f1",
   "metadata": {},
   "outputs": [],
   "source": [
    "import numpy as np\n",
    "import pylab as plt\n",
    "from pathlib import Path\n",
    "import xarray as xr\n",
    "import cartopy.crs as ccrs\n",
    "import geopandas as gp\n",
    "import pandas as pd\n",
    "from tqdm.auto import tqdm\n",
    "\n",
    "from pypism.trajectory import compute_perturbation\n",
    "from pypism.hillshade import hillshade\n",
    "from pypism.utils import qgis2cmap, tqdm_joblib, blend_multiply\n",
    "\n",
    "np.seterr(divide='ignore', invalid='ignore')"
   ]
  },
  {
   "cell_type": "code",
   "execution_count": null,
   "id": "52c45f6f",
   "metadata": {},
   "outputs": [],
   "source": [
    "data_url = Path(\"~/Google Drive/My Drive/data/ITS_LIVE/GRE_G0240_0000.nc\")\n",
    "ogr_url = Path(\"/Users/andy/Google Drive/My Drive/data/GreenlandFluxGatesAschwanden/greenland-flux-gates-jib.shp\")"
   ]
  },
  {
   "cell_type": "code",
   "execution_count": null,
   "id": "1e2d96ec-0dea-4e10-8187-1d4ad5ba46d4",
   "metadata": {},
   "outputs": [],
   "source": [
    "result = gp.read_file(Path(\"traj.gpkg\"))"
   ]
  },
  {
   "cell_type": "code",
   "execution_count": null,
   "id": "88ef1383-851e-4fdc-87b2-7a8445bb483a",
   "metadata": {},
   "outputs": [],
   "source": [
    "run ../compute_pathlines.py --raster_url data_url --vector_url ogr_url"
   ]
  },
  {
   "cell_type": "code",
   "execution_count": null,
   "id": "43c99509-2435-4ec3-85d0-45a80da39960",
   "metadata": {},
   "outputs": [],
   "source": [
    "qgis_colormap = Path(\"../data/speed-colorblind.txt\")\n",
    "cmap = qgis2cmap(qgis_colormap, name=\"speeds\")"
   ]
  },
  {
   "cell_type": "code",
   "execution_count": null,
   "id": "2c233447-5827-4cf7-ba77-5fcd711088fb",
   "metadata": {},
   "outputs": [],
   "source": [
    "ds_dem = xr.open_dataset(Path(\"/Users/andy/Google Drive/My Drive/data/MCdataset/BedMachineGreenland-v5.nc\")).sel(x=slice(-210000, 200000), y=slice(-2100000, -2400000))"
   ]
  },
  {
   "cell_type": "code",
   "execution_count": null,
   "id": "f52628cf-9fe0-418b-aa13-264f4a5dd152",
   "metadata": {},
   "outputs": [],
   "source": [
    "ds_dem = xr.open_dataset(Path(\"/Users/andy/Google Drive/My Drive/data/MCdataset/BedMachineGreenland-v5.nc\")).sel(x=slice(-210000, 200000), y=slice(-2100000, -2400000))\n",
    "hs = hillshade(ds_dem[\"surface\"], zf=5)\n",
    "hs.plot(cmap=\"Greys_r\", vmin=0, vmax=1, add_colorbar=False)"
   ]
  },
  {
   "cell_type": "code",
   "execution_count": null,
   "id": "8dd1292f-3992-476f-b7b8-7ad2ca30d535",
   "metadata": {},
   "outputs": [],
   "source": [
    "n_jobs = 10\n",
    "n_perturbations = 50\n",
    "with tqdm_joblib(tqdm(desc=\"Processing Perturbation\", total=n_perturbations)) as progress_bar:\n",
    "    result = Parallel(n_jobs=n_jobs)(\n",
    "        delayed(compute_perturbation)(data_url, ogr_url, perturbation=k, dt=10, total_time=10_000, reverse=True, pl_exp=2)\n",
    "            for k in range(n_perturbations)\n",
    "        )\n",
    "results = pd.concat(result).reset_index(drop=True)"
   ]
  },
  {
   "cell_type": "code",
   "execution_count": null,
   "id": "a7fc9c17-9c96-4699-be3b-b6a9f69720cf",
   "metadata": {},
   "outputs": [],
   "source": [
    "crs = ccrs.NorthPolarStereo(central_longitude=-45, true_scale_latitude=70, globe=None)\n",
    "\n",
    "jak_extent = {\"x\": slice(-240000, 60000), \"y\": slice(-2000000, -2350000)}\n",
    "\n",
    "fig = plt.figure(figsize=(12, 8))\n",
    "ax = fig.add_subplot(111, projection=crs)\n",
    "\n",
    "\n",
    "f = ds.sel(jak_extent)[\"v\"].plot(vmin=10, vmax=1500, cmap=cmap, shading=\"flat\", alpha=0.5, ax=ax,\n",
    "                 transform=crs, \n",
    "             cbar_kwargs={\"location\": \"right\", \"orientation\": \"vertical\", \n",
    "                          \"fraction\": 0.085, \"shrink\": 0.6, \"label\": ds[\"v\"].units},\n",
    ")\n",
    "hs.plot(cmap=\"Greys_r\", vmin=0, vmax=1, ax=f.axes, zorder=-1, add_colorbar=False)\n",
    "f.axes.coastlines(linewidth=0.25, resolution=\"10m\")\n",
    "\n",
    "results.plot(ax=f.axes, markersize=0.1, column=\"perturbation\", cmap=\"tab20b\",\n",
    "                  legend=False)\n",
    "#stp.plot(ax=ax, color=\"k\", lw=2)\n",
    "f.axes.set_extent([-51, -40, 68., 70.5])"
   ]
  },
  {
   "cell_type": "code",
   "execution_count": null,
   "id": "b5e2786a-d05b-4ed5-9502-5b8457d9418f",
   "metadata": {},
   "outputs": [],
   "source": [
    "results = pd.concat(result).reset_index(drop=True)"
   ]
  },
  {
   "cell_type": "code",
   "execution_count": null,
   "id": "5049fbce-228b-4a19-9e30-02dc190678d5",
   "metadata": {},
   "outputs": [],
   "source": [
    "ds = xr.open_dataset(data_url, decode_times=False)"
   ]
  },
  {
   "cell_type": "code",
   "execution_count": null,
   "id": "18a0c2fa-5978-408e-885d-3aec4a32a14c",
   "metadata": {},
   "outputs": [],
   "source": [
    "Path(\"foo/bar.txt\").parent"
   ]
  },
  {
   "cell_type": "code",
   "execution_count": null,
   "id": "6056ea83-9dc8-42b0-9cfe-5a031968ca0a",
   "metadata": {},
   "outputs": [],
   "source": [
    "ds.vx_err.wher"
   ]
  },
  {
   "cell_type": "code",
   "execution_count": null,
   "id": "db6ed6a1-08f3-4f93-9d2d-556745a80a0a",
   "metadata": {},
   "outputs": [],
   "source": [
    "# Generates power-law power spectrum - structures of all sizes and fractal sub-structures\n",
    "def plPk(n):\n",
    "    def Pk(k):\n",
    "        return np.power(k, -n)\n",
    "\n",
    "    return Pk\n",
    "\n",
    "\n",
    "def gaussPk(grf_range):\n",
    "    def Pk(k):\n",
    "        a = 2 / grf_range\n",
    "        exponent = (k**2) / (4 * a)\n",
    "        return np.sqrt(np.pi / a) * (np.e ** (-exponent))\n",
    "\n",
    "    return Pk\n",
    "\n",
    "\n",
    "# Draw samples from a normal distribution\n",
    "def distrib(shape):\n",
    "    a = np.random.normal(\n",
    "        loc=0, scale=(2 * np.nanstd(jak.v)) ** 2, size=shape\n",
    "    )\n",
    "    b = np.random.normal(\n",
    "        loc=0, scale=(2 * np.nanstd(jak.v)) ** 2, size=shape\n",
    "    )\n",
    "    return a + 1j * b\n",
    "\n",
    "\n",
    "# Draw samples from a normal distribution\n",
    "def distrib(shape):\n",
    "    a = np.random.normal(\n",
    "        loc=0, scale=jak.v.std(), size=shape\n",
    "    )\n",
    "    b = np.random.normal(\n",
    "        loc=0, scale=jak.v.std(), size=shape\n",
    "    )\n",
    "    return a + 1j * b\n",
    "\n",
    "def distrib_uniform(shape):\n",
    "    a = np.random.uniform(size=shape)\n",
    "    b = np.random.uniform(size=shape)\n",
    "    vmin = jak.v - jak.v_err\n",
    "    vmax = jak.v + jak.v_err\n",
    "    return jak.v.to_numpy() + vmin.to_numpy() + (a + 1j * b) * (vmax-vmin).to_numpy()\n",
    "\n",
    "def distrib_normal(shape):\n",
    "    a = np.random.normal(\n",
    "        loc=0, scale=jak.v_err, size=shape\n",
    "    )\n",
    "    b = np.random.normal(\n",
    "        loc=0, scale=jak.v_err, size=shape\n",
    "    )\n",
    "    return a + 1j * b\n",
    "\n",
    "## Just a helper to visualize the GRFs and thwat they do\n",
    "def plot_gauss_rand_field(\n",
    "    original_ds: xr.DataArray,\n",
    "    grf: np.ndarray,\n",
    "    err_field: xr.DataArray,\n",
    "):\n",
    "    fig, axs = plt.subplots(1, 3, figsize=(30, 10))\n",
    "    ## Original data\n",
    "    original_ds.plot.imshow(cmap=\"cividis\", ax=axs[0], vmin=10, vmax=1000)\n",
    "    ## Random Field\n",
    "    grf_im = axs[1].imshow(grf, cmap=\"seismic\")\n",
    "    fig.colorbar(grf_im, ax=axs[1])\n",
    "    ## Original data + Random Field\n",
    "    err_field.plot.imshow(cmap=\"cividis\", ax=axs[2], vmin=10, vmax=1000)"
   ]
  },
  {
   "cell_type": "code",
   "execution_count": null,
   "id": "0b751236-4452-4032-a3f0-3329e99d1136",
   "metadata": {},
   "outputs": [],
   "source": [
    "ds = xr.open_dataset(data_url, decode_times=False)\n",
    "jak_extent = {\"x\": slice(-240000, 60000), \"y\": slice(-2000000, -2350000)}\n",
    "jak = ds.sel(jak_extent)"
   ]
  },
  {
   "cell_type": "code",
   "execution_count": null,
   "id": "ccd699e0-9273-493d-b3ea-f6651d463bc1",
   "metadata": {},
   "outputs": [],
   "source": [
    "shape = (len(jak.y.values), len(jak.x.values))\n",
    "for pl_exp in np.linspace(0, 5, 6):\n",
    "    grfield = generate_field(distrib_normal, plPk(pl_exp), shape)\n",
    "    v_hat_field = jak.v + grfield\n",
    "    plot_gauss_rand_field(jak.v, grfield, v_hat_field)\n",
    "    plt.title(f\"GRF with Scale Invariant Spectrum with exponent={pl_exp}\")"
   ]
  },
  {
   "cell_type": "code",
   "execution_count": null,
   "id": "f655380a-5a18-42d9-b6c7-a1ba18e7d9cb",
   "metadata": {},
   "outputs": [],
   "source": [
    "jak.v_err.plot(vmin=0, vmax=10)"
   ]
  },
  {
   "cell_type": "code",
   "execution_count": null,
   "id": "f76fc8b2-7394-4b8d-af05-098072e99886",
   "metadata": {},
   "outputs": [],
   "source": [
    "    a = np.random.normal(\n",
    "        loc=0, scale=(2 * np.nanstd(jak.v)) ** 2, size=shape\n",
    "    )"
   ]
  },
  {
   "cell_type": "code",
   "execution_count": null,
   "id": "6034e7be-7605-4220-a46f-0f89f953bda0",
   "metadata": {},
   "outputs": [],
   "source": [
    "from typing import Callable, Optional, Dict, Any\n",
    "\n",
    "def generate_field_xr(\n",
    "    fftfield: np.ndarray,\n",
    "    power_spectrum: Callable[[np.ndarray], np.ndarray],\n",
    "    unit_length: float = 1,\n",
    "    fft: Any = np.fft,\n",
    "    fft_args: Dict[str, Any] = {},\n",
    ") -> np.ndarray:\n",
    "    \"\"\"\n",
    "    Generates a field given a statistic and a power_spectrum.\n",
    "    \"\"\"\n",
    "\n",
    "    if not isinstance(power_spectrum, Callable):\n",
    "        raise Exception(\"`power_spectrum` should be callable\")\n",
    "\n",
    "    try:\n",
    "        fftfreq = fft.fftfreq\n",
    "    except AttributeError:\n",
    "        # Fallback on numpy for the frequencies\n",
    "        fftfreq = np.fft.fftfreq\n",
    "    else:\n",
    "        fftfreq = fft.fftfreq\n",
    "\n",
    "    # Compute the k grid\n",
    "    all_k = [fftfreq(s, d=unit_length) for s in shape]\n",
    "\n",
    "    kgrid = np.meshgrid(*all_k, indexing=\"ij\")\n",
    "    knorm = np.hypot(*kgrid)\n",
    "\n",
    "    power_k = np.zeros_like(knorm)\n",
    "    mask = knorm > 0\n",
    "    power_k[mask] = np.sqrt(power_spectrum(knorm[mask]))\n",
    "    fftfield *= power_k\n",
    "\n",
    "    return np.real(fft.ifftn(fftfield, **fft_args))"
   ]
  },
  {
   "cell_type": "code",
   "execution_count": null,
   "id": "be959ce2-bedd-41e5-b7b9-e25f8308a9b2",
   "metadata": {},
   "outputs": [],
   "source": [
    "np.random.uniform(size=shape)"
   ]
  },
  {
   "cell_type": "code",
   "execution_count": null,
   "id": "bf9cc3d9-5f5d-47a9-95ab-342d90e62fd5",
   "metadata": {},
   "outputs": [],
   "source": [
    "np.nanstd(jak.v)"
   ]
  },
  {
   "cell_type": "code",
   "execution_count": null,
   "id": "bce21854-d9e8-499f-84df-ad27b9e93640",
   "metadata": {},
   "outputs": [],
   "source": [
    "def distrib(shape):\n",
    "    a = np.random.normal(\n",
    "        loc=0, scale=jak.v.std(), size=shape\n",
    "    )\n",
    "    b = np.random.normal(\n",
    "        loc=0, scale=jak.v.std(), size=shape\n",
    "    )\n",
    "    return a + 1j * b"
   ]
  },
  {
   "cell_type": "code",
   "execution_count": null,
   "id": "af646a62-59e7-4633-a6d5-4261bf04195d",
   "metadata": {},
   "outputs": [],
   "source": [
    "distrib_uniform(shape).max()"
   ]
  },
  {
   "cell_type": "code",
   "execution_count": null,
   "id": "2e3efa24-c8cc-456f-b232-4d27dd569669",
   "metadata": {},
   "outputs": [],
   "source": [
    "def distrib_normal(shape):\n",
    "    a = np.random.normal(\n",
    "        loc=0, scale=(2*jak.v_err)**2,\n",
    "    )\n",
    "    b = np.random.normal(\n",
    "        loc=0, scale=(2*jak.v_err)**2,\n",
    "    )\n",
    "    return a + 1j * b"
   ]
  },
  {
   "cell_type": "code",
   "execution_count": null,
   "id": "3b124c6a-73d5-4e63-a207-5b13efcc39ca",
   "metadata": {},
   "outputs": [],
   "source": [
    "def distrib_normal_xr(da):\n",
    "    a = np.random.normal(\n",
    "        loc=0, scale=(2*da)**2,\n",
    "    )\n",
    "    b = np.random.normal(\n",
    "        loc=0, scale=(2*da)**2,\n",
    "    )\n",
    "    return a + 1j * b\n"
   ]
  },
  {
   "cell_type": "code",
   "execution_count": null,
   "id": "bab613e3-b11e-4777-a742-38e1e50220aa",
   "metadata": {},
   "outputs": [],
   "source": [
    "distrib_normal_xr(jak.vx_err)"
   ]
  },
  {
   "cell_type": "code",
   "execution_count": null,
   "id": "3a4ddd2f-ad24-44d8-bf78-dca59924abe3",
   "metadata": {},
   "outputs": [],
   "source": [
    "jak[\"vx_err\"].plot(vmin=0, vmax=10)"
   ]
  },
  {
   "cell_type": "code",
   "execution_count": null,
   "id": "a645b73c-b42c-491f-826d-a0815ee831bb",
   "metadata": {},
   "outputs": [],
   "source": [
    "        normals = {\"nx\": 0, \"ny\": 1}\n"
   ]
  },
  {
   "cell_type": "code",
   "execution_count": null,
   "id": "c149b29c-9ecf-4f8a-a194-1bb445814965",
   "metadata": {},
   "outputs": [],
   "source": [
    "[key for key, _ in normals.items()]"
   ]
  },
  {
   "cell_type": "code",
   "execution_count": null,
   "id": "fc490582-f59d-4251-9a2c-bb215b99b3ca",
   "metadata": {},
   "outputs": [],
   "source": [
    "df = gp.read_file(\"~/Google Drive/My Drive/data/GreenlandFluxGatesAschwanden/gris-outline-vertices.gpkg\")"
   ]
  },
  {
   "cell_type": "code",
   "execution_count": null,
   "id": "6d92cf22-d049-47f4-aab0-82bf6390186e",
   "metadata": {},
   "outputs": [],
   "source": [
    "xr.Da"
   ]
  },
  {
   "cell_type": "code",
   "execution_count": null,
   "id": "537f7222-35ce-4ce8-854d-0f166f27d0c0",
   "metadata": {},
   "outputs": [],
   "source": [
    "import shapely"
   ]
  },
  {
   "cell_type": "code",
   "execution_count": null,
   "id": "73ca1fbb-abfd-4a28-939c-fa2d1ea8e10c",
   "metadata": {},
   "outputs": [],
   "source": [
    "shapely.i"
   ]
  },
  {
   "cell_type": "code",
   "execution_count": null,
   "id": "abbcdeca-bead-423d-a2bd-1c1a1f37deb4",
   "metadata": {},
   "outputs": [],
   "source": []
  }
 ],
 "metadata": {
  "kernelspec": {
   "display_name": "Python 3 (ipykernel)",
   "language": "python",
   "name": "python3"
  },
  "language_info": {
   "codemirror_mode": {
    "name": "ipython",
    "version": 3
   },
   "file_extension": ".py",
   "mimetype": "text/x-python",
   "name": "python",
   "nbconvert_exporter": "python",
   "pygments_lexer": "ipython3"
  }
 },
 "nbformat": 4,
 "nbformat_minor": 5
}
