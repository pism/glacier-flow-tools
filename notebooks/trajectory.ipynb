{
 "cells": [
  {
   "cell_type": "markdown",
   "id": "da710a4b",
   "metadata": {},
   "source": [
    "# Basic trajectory example"
   ]
  },
  {
   "cell_type": "code",
   "execution_count": null,
   "id": "a88d95f1",
   "metadata": {},
   "outputs": [],
   "source": [
    "import numpy as np\n",
    "import pylab as plt\n",
    "from shapely import Point\n",
    "from pathlib import Path\n",
    "\n",
    "from pypism.trajectory import compute_trajectory, compute_perturbation\n",
    "\n",
    "np.seterr(divide='ignore', invalid='ignore')"
   ]
  },
  {
   "cell_type": "code",
   "execution_count": null,
   "id": "52c45f6f",
   "metadata": {},
   "outputs": [],
   "source": [
    "data_url = Path(\"~/Google Drive/My Drive/data/ITS_LIVE/GRE_G0240_0000.nc\")\n",
    "ogr_url = Path(\"/Users/andy/Google Drive/My Drive/data/GreenlandFluxGatesAschwanden/greenland-flux-gates-jibneighbors.shp\")"
   ]
  },
  {
   "cell_type": "code",
   "execution_count": null,
   "id": "9c77db2b",
   "metadata": {},
   "outputs": [],
   "source": [
    "result = compute_perturbation(data_url, ogr_url, dt=0.1, reverse=True)\n",
    "result.to_file(\"traj.gpkg\")"
   ]
  },
  {
   "cell_type": "code",
   "execution_count": null,
   "id": "88ef1383-851e-4fdc-87b2-7a8445bb483a",
   "metadata": {},
   "outputs": [],
   "source": []
  }
 ],
 "metadata": {
  "kernelspec": {
   "display_name": "Python 3 (ipykernel)",
   "language": "python",
   "name": "python3"
  },
  "language_info": {
   "codemirror_mode": {
    "name": "ipython",
    "version": 3
   },
   "file_extension": ".py",
   "mimetype": "text/x-python",
   "name": "python",
   "nbconvert_exporter": "python",
   "pygments_lexer": "ipython3",
   "version": "3.12.1"
  }
 },
 "nbformat": 4,
 "nbformat_minor": 5
}
