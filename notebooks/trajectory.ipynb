{
 "cells": [
  {
   "cell_type": "markdown",
   "id": "da710a4b",
   "metadata": {},
   "source": [
    "# Basic trajectory example"
   ]
  },
  {
   "cell_type": "code",
   "execution_count": 1,
   "id": "a88d95f1",
   "metadata": {},
   "outputs": [
    {
     "data": {
      "text/plain": [
       "{'divide': 'warn', 'over': 'warn', 'under': 'ignore', 'invalid': 'warn'}"
      ]
     },
     "execution_count": 1,
     "metadata": {},
     "output_type": "execute_result"
    }
   ],
   "source": [
    "import numpy as np\n",
    "import pylab as plt\n",
    "from pathlib import Path\n",
    "import xarray as xr\n",
    "import cartopy.crs as ccrs\n",
    "import geopandas as gp\n",
    "from pypism.trajectory import compute_perturbation\n",
    "from pypism.hillshade import hillshade\n",
    "from pypism.utils import qgis2cmap\n",
    "\n",
    "np.seterr(divide='ignore', invalid='ignore')"
   ]
  },
  {
   "cell_type": "code",
   "execution_count": 2,
   "id": "52c45f6f",
   "metadata": {},
   "outputs": [],
   "source": [
    "data_url = Path(\"~/Google Drive/My Drive/data/ITS_LIVE/GRE_G0240_0000.nc\")\n",
    "ogr_url = Path(\"/Users/andy/Google Drive/My Drive/data/GreenlandFluxGatesAschwanden/greenland-flux-gates-jibneighbors.shp\")"
   ]
  },
  {
   "cell_type": "code",
   "execution_count": 3,
   "id": "9c77db2b",
   "metadata": {},
   "outputs": [
    {
     "ename": "ImportError",
     "evalue": "IProgress not found. Please update jupyter and ipywidgets. See https://ipywidgets.readthedocs.io/en/stable/user_install.html",
     "output_type": "error",
     "traceback": [
      "\u001b[0;31m---------------------------------------------------------------------------\u001b[0m",
      "\u001b[0;31mImportError\u001b[0m                               Traceback (most recent call last)",
      "Cell \u001b[0;32mIn[3], line 1\u001b[0m\n\u001b[0;32m----> 1\u001b[0m result \u001b[38;5;241m=\u001b[39m \u001b[43mcompute_perturbation\u001b[49m\u001b[43m(\u001b[49m\u001b[43mdata_url\u001b[49m\u001b[43m,\u001b[49m\u001b[43m \u001b[49m\u001b[43mogr_url\u001b[49m\u001b[43m,\u001b[49m\u001b[43m \u001b[49m\u001b[43mdt\u001b[49m\u001b[38;5;241;43m=\u001b[39;49m\u001b[38;5;241;43m10\u001b[39;49m\u001b[43m,\u001b[49m\u001b[43m \u001b[49m\u001b[43mreverse\u001b[49m\u001b[38;5;241;43m=\u001b[39;49m\u001b[38;5;28;43;01mTrue\u001b[39;49;00m\u001b[43m)\u001b[49m\n\u001b[1;32m      2\u001b[0m result\u001b[38;5;241m.\u001b[39mto_file(Path(\u001b[38;5;124m\"\u001b[39m\u001b[38;5;124mtraj.gpkg\u001b[39m\u001b[38;5;124m\"\u001b[39m))\n",
      "File \u001b[0;32m~/base/pypism/pypism/trajectory.py:265\u001b[0m, in \u001b[0;36mcompute_perturbation\u001b[0;34m(data_url, ogr_url, perturbation, sample, sigma, total_time, dt, reverse, crs)\u001b[0m\n\u001b[1;32m    262\u001b[0m pts_gp \u001b[38;5;241m=\u001b[39m gp\u001b[38;5;241m.\u001b[39mread_file(ogr_url)\u001b[38;5;241m.\u001b[39mto_crs(crs)\u001b[38;5;241m.\u001b[39mreset_index(drop\u001b[38;5;241m=\u001b[39m\u001b[38;5;28;01mTrue\u001b[39;00m)\n\u001b[1;32m    264\u001b[0m all_glaciers \u001b[38;5;241m=\u001b[39m []\n\u001b[0;32m--> 265\u001b[0m \u001b[38;5;28;01mwith\u001b[39;00m \u001b[43mtqdm\u001b[49m\u001b[43m(\u001b[49m\u001b[38;5;28;43menumerate\u001b[39;49m\u001b[43m(\u001b[49m\u001b[43mpts_gp\u001b[49m\u001b[43m)\u001b[49m\u001b[43m,\u001b[49m\u001b[43m \u001b[49m\u001b[43mtotal\u001b[49m\u001b[38;5;241;43m=\u001b[39;49m\u001b[38;5;28;43mlen\u001b[39;49m\u001b[43m(\u001b[49m\u001b[43mpts_gp\u001b[49m\u001b[43m)\u001b[49m\u001b[43m,\u001b[49m\u001b[43m \u001b[49m\u001b[43mleave\u001b[49m\u001b[38;5;241;43m=\u001b[39;49m\u001b[38;5;28;43;01mFalse\u001b[39;49;00m\u001b[43m)\u001b[49m \u001b[38;5;28;01mas\u001b[39;00m pbar:\n\u001b[1;32m    266\u001b[0m     \u001b[38;5;28;01mfor\u001b[39;00m index, _ \u001b[38;5;129;01min\u001b[39;00m pbar:\n\u001b[1;32m    267\u001b[0m         pts \u001b[38;5;241m=\u001b[39m pts_gp[pts_gp\u001b[38;5;241m.\u001b[39mindex \u001b[38;5;241m==\u001b[39m index]\u001b[38;5;241m.\u001b[39mreset_index(drop\u001b[38;5;241m=\u001b[39m\u001b[38;5;28;01mTrue\u001b[39;00m)\n",
      "File \u001b[0;32m~/miniconda3/envs/pypism/lib/python3.12/site-packages/tqdm/notebook.py:234\u001b[0m, in \u001b[0;36mtqdm_notebook.__init__\u001b[0;34m(self, *args, **kwargs)\u001b[0m\n\u001b[1;32m    232\u001b[0m unit_scale \u001b[38;5;241m=\u001b[39m \u001b[38;5;241m1\u001b[39m \u001b[38;5;28;01mif\u001b[39;00m \u001b[38;5;28mself\u001b[39m\u001b[38;5;241m.\u001b[39munit_scale \u001b[38;5;129;01mis\u001b[39;00m \u001b[38;5;28;01mTrue\u001b[39;00m \u001b[38;5;28;01melse\u001b[39;00m \u001b[38;5;28mself\u001b[39m\u001b[38;5;241m.\u001b[39munit_scale \u001b[38;5;129;01mor\u001b[39;00m \u001b[38;5;241m1\u001b[39m\n\u001b[1;32m    233\u001b[0m total \u001b[38;5;241m=\u001b[39m \u001b[38;5;28mself\u001b[39m\u001b[38;5;241m.\u001b[39mtotal \u001b[38;5;241m*\u001b[39m unit_scale \u001b[38;5;28;01mif\u001b[39;00m \u001b[38;5;28mself\u001b[39m\u001b[38;5;241m.\u001b[39mtotal \u001b[38;5;28;01melse\u001b[39;00m \u001b[38;5;28mself\u001b[39m\u001b[38;5;241m.\u001b[39mtotal\n\u001b[0;32m--> 234\u001b[0m \u001b[38;5;28mself\u001b[39m\u001b[38;5;241m.\u001b[39mcontainer \u001b[38;5;241m=\u001b[39m \u001b[38;5;28;43mself\u001b[39;49m\u001b[38;5;241;43m.\u001b[39;49m\u001b[43mstatus_printer\u001b[49m\u001b[43m(\u001b[49m\u001b[38;5;28;43mself\u001b[39;49m\u001b[38;5;241;43m.\u001b[39;49m\u001b[43mfp\u001b[49m\u001b[43m,\u001b[49m\u001b[43m \u001b[49m\u001b[43mtotal\u001b[49m\u001b[43m,\u001b[49m\u001b[43m \u001b[49m\u001b[38;5;28;43mself\u001b[39;49m\u001b[38;5;241;43m.\u001b[39;49m\u001b[43mdesc\u001b[49m\u001b[43m,\u001b[49m\u001b[43m \u001b[49m\u001b[38;5;28;43mself\u001b[39;49m\u001b[38;5;241;43m.\u001b[39;49m\u001b[43mncols\u001b[49m\u001b[43m)\u001b[49m\n\u001b[1;32m    235\u001b[0m \u001b[38;5;28mself\u001b[39m\u001b[38;5;241m.\u001b[39mcontainer\u001b[38;5;241m.\u001b[39mpbar \u001b[38;5;241m=\u001b[39m proxy(\u001b[38;5;28mself\u001b[39m)\n\u001b[1;32m    236\u001b[0m \u001b[38;5;28mself\u001b[39m\u001b[38;5;241m.\u001b[39mdisplayed \u001b[38;5;241m=\u001b[39m \u001b[38;5;28;01mFalse\u001b[39;00m\n",
      "File \u001b[0;32m~/miniconda3/envs/pypism/lib/python3.12/site-packages/tqdm/notebook.py:108\u001b[0m, in \u001b[0;36mtqdm_notebook.status_printer\u001b[0;34m(_, total, desc, ncols)\u001b[0m\n\u001b[1;32m     99\u001b[0m \u001b[38;5;66;03m# Fallback to text bar if there's no total\u001b[39;00m\n\u001b[1;32m    100\u001b[0m \u001b[38;5;66;03m# DEPRECATED: replaced with an 'info' style bar\u001b[39;00m\n\u001b[1;32m    101\u001b[0m \u001b[38;5;66;03m# if not total:\u001b[39;00m\n\u001b[0;32m   (...)\u001b[0m\n\u001b[1;32m    105\u001b[0m \n\u001b[1;32m    106\u001b[0m \u001b[38;5;66;03m# Prepare IPython progress bar\u001b[39;00m\n\u001b[1;32m    107\u001b[0m \u001b[38;5;28;01mif\u001b[39;00m IProgress \u001b[38;5;129;01mis\u001b[39;00m \u001b[38;5;28;01mNone\u001b[39;00m:  \u001b[38;5;66;03m# #187 #451 #558 #872\u001b[39;00m\n\u001b[0;32m--> 108\u001b[0m     \u001b[38;5;28;01mraise\u001b[39;00m \u001b[38;5;167;01mImportError\u001b[39;00m(WARN_NOIPYW)\n\u001b[1;32m    109\u001b[0m \u001b[38;5;28;01mif\u001b[39;00m total:\n\u001b[1;32m    110\u001b[0m     pbar \u001b[38;5;241m=\u001b[39m IProgress(\u001b[38;5;28mmin\u001b[39m\u001b[38;5;241m=\u001b[39m\u001b[38;5;241m0\u001b[39m, \u001b[38;5;28mmax\u001b[39m\u001b[38;5;241m=\u001b[39mtotal)\n",
      "\u001b[0;31mImportError\u001b[0m: IProgress not found. Please update jupyter and ipywidgets. See https://ipywidgets.readthedocs.io/en/stable/user_install.html"
     ]
    }
   ],
   "source": [
    "result = compute_perturbation(data_url, ogr_url, dt=10, reverse=True)\n",
    "result.to_file(Path(\"traj.gpkg\"))"
   ]
  },
  {
   "cell_type": "code",
   "execution_count": null,
   "id": "e6e92e54-3c26-45d8-9627-8800ad9bea9f",
   "metadata": {},
   "outputs": [],
   "source": [
    "stp = gp.read_file(ogr_url)"
   ]
  },
  {
   "cell_type": "code",
   "execution_count": null,
   "id": "1e2d96ec-0dea-4e10-8187-1d4ad5ba46d4",
   "metadata": {},
   "outputs": [],
   "source": [
    "result = gp.read_file(Path(\"traj.gpkg\"))"
   ]
  },
  {
   "cell_type": "code",
   "execution_count": null,
   "id": "88ef1383-851e-4fdc-87b2-7a8445bb483a",
   "metadata": {},
   "outputs": [],
   "source": [
    "ds = xr.open_dataset(data_url)"
   ]
  },
  {
   "cell_type": "code",
   "execution_count": null,
   "id": "43c99509-2435-4ec3-85d0-45a80da39960",
   "metadata": {},
   "outputs": [],
   "source": [
    "qgis_colormap = Path(\"../data/speed-colorblind.txt\")\n",
    "cmap = qgis2cmap(qgis_colormap, name=\"speeds\")"
   ]
  },
  {
   "cell_type": "code",
   "execution_count": null,
   "id": "2c233447-5827-4cf7-ba77-5fcd711088fb",
   "metadata": {},
   "outputs": [],
   "source": [
    "ds_dem = xr.open_dataset(Path(\"/Users/andy/Google Drive/My Drive/data/MCdataset/BedMachineGreenland-v5.nc\")).sel(x=slice(-210000, 200000), y=slice(-2100000, -2400000))"
   ]
  },
  {
   "cell_type": "code",
   "execution_count": null,
   "id": "f52628cf-9fe0-418b-aa13-264f4a5dd152",
   "metadata": {},
   "outputs": [],
   "source": [
    "ds_dem = xr.open_dataset(Path(\"/Users/andy/Google Drive/My Drive/data/MCdataset/BedMachineGreenland-v5.nc\")).sel(x=slice(-210000, 200000), y=slice(-2100000, -2400000))\n",
    "hs = hillshade(ds_dem[\"surface\"], zf=5)\n",
    "hs.plot(cmap=\"Greys_r\", vmin=0, vmax=1, add_colorbar=False)"
   ]
  },
  {
   "cell_type": "code",
   "execution_count": null,
   "id": "a7fc9c17-9c96-4699-be3b-b6a9f69720cf",
   "metadata": {},
   "outputs": [],
   "source": [
    "crs = ccrs.NorthPolarStereo(central_longitude=-45, true_scale_latitude=70, globe=None)\n",
    "\n",
    "jak_extent = {\"x\": slice(-240000, 60000), \"y\": slice(-2000000, -2350000)}\n",
    "\n",
    "fig = plt.figure(figsize=(12, 8))\n",
    "ax = fig.add_subplot(111, projection=crs)\n",
    "\n",
    "\n",
    "f = ds.sel(jak_extent)[\"v\"].plot(vmin=10, vmax=1500, cmap=cmap, shading=\"flat\", alpha=0.5, ax=ax,\n",
    "                 transform=crs, \n",
    "             cbar_kwargs={\"location\": \"right\", \"orientation\": \"vertical\", \n",
    "                          \"fraction\": 0.085, \"shrink\": 0.6, \"label\": ds[\"v\"].units},\n",
    ")\n",
    "hs.plot(cmap=\"Greys_r\", vmin=0, vmax=1, ax=f.axes, zorder=-1, add_colorbar=False)\n",
    "f.axes.coastlines(linewidth=0.25, resolution=\"10m\")\n",
    "t_l = result.plot(ax=f.axes, column=\"distance_from_origin\", markersize=0.5, cmap=\"magma\",\n",
    "                  legend=False)\n",
    "stp.plot(ax=ax, color=\"k\", lw=2)\n",
    "f.axes.set_extent([-51, -44, 68.5, 70])"
   ]
  },
  {
   "cell_type": "code",
   "execution_count": null,
   "id": "b5e2786a-d05b-4ed5-9502-5b8457d9418f",
   "metadata": {},
   "outputs": [],
   "source": [
    "result.plot?"
   ]
  },
  {
   "cell_type": "code",
   "execution_count": null,
   "id": "a8151d68-30a9-417e-9c67-bd8778439b1f",
   "metadata": {},
   "outputs": [],
   "source": [
    "h.where(h > 0, h, 0)"
   ]
  },
  {
   "cell_type": "code",
   "execution_count": null,
   "id": "5f69680b-184d-46dd-8391-2e58ac87f799",
   "metadata": {},
   "outputs": [],
   "source": [
    "h"
   ]
  },
  {
   "cell_type": "code",
   "execution_count": null,
   "id": "8dccbc52-858a-4072-80e2-6b1327dc43b0",
   "metadata": {},
   "outputs": [],
   "source": [
    "from matplotlib import colors, cm\n",
    "from matplotlib.colors import LightSource\n",
    "\n",
    "# Shade from the northwest, with the sun 45 degrees from horizontal\n",
    "ls = LightSource(azdeg=315, altdeg=45)"
   ]
  },
  {
   "cell_type": "code",
   "execution_count": null,
   "id": "c6108556-5a3d-4f80-964f-326dd61d2589",
   "metadata": {},
   "outputs": [],
   "source": [
    "plt.imshow(ls.blend_overlay(ds[\"v\"].to_numpy(), ds_dem[\"surface\"].to_numpy()))"
   ]
  },
  {
   "cell_type": "code",
   "execution_count": null,
   "id": "137d7273-8168-451c-a828-d2bc09665691",
   "metadata": {},
   "outputs": [],
   "source": [
    "ds_gcs = xr.open_dataset(\n",
    "    \"gcs://<bucket-name>/path.zarr\",\n",
    "    backend_kwargs={\n",
    "        \"storage_options\": {\"project\": \"<project-name>\", \"token\": None}\n",
    "    },\n",
    "    engine=\"zarr\",\n",
    ")"
   ]
  },
  {
   "cell_type": "code",
   "execution_count": 5,
   "id": "01f76e26-25fe-4d17-8ea3-335e77383388",
   "metadata": {},
   "outputs": [
    {
     "ename": "TypeError",
     "evalue": "NetCDF4BackendEntrypoint.open_dataset() got an unexpected keyword argument 'storage_options'",
     "output_type": "error",
     "traceback": [
      "\u001b[0;31m---------------------------------------------------------------------------\u001b[0m",
      "\u001b[0;31mTypeError\u001b[0m                                 Traceback (most recent call last)",
      "Cell \u001b[0;32mIn[5], line 1\u001b[0m\n\u001b[0;32m----> 1\u001b[0m \u001b[43mxr\u001b[49m\u001b[38;5;241;43m.\u001b[39;49m\u001b[43mopen_dataset\u001b[49m\u001b[43m(\u001b[49m\u001b[38;5;124;43m\"\u001b[39;49m\u001b[38;5;124;43ms3://ornl-cumulus-prod-protected/daymet/Daymet_Daily_V4R1/data/daymet_v4_daily_hi_tmin_2022.nc\u001b[39;49m\u001b[38;5;124;43m\"\u001b[39;49m\u001b[43m,\u001b[49m\u001b[43m     \u001b[49m\u001b[43mbackend_kwargs\u001b[49m\u001b[38;5;241;43m=\u001b[39;49m\u001b[43m{\u001b[49m\n\u001b[1;32m      2\u001b[0m \u001b[43m        \u001b[49m\u001b[38;5;124;43m\"\u001b[39;49m\u001b[38;5;124;43mstorage_options\u001b[39;49m\u001b[38;5;124;43m\"\u001b[39;49m\u001b[43m:\u001b[49m\u001b[43m \u001b[49m\u001b[43m{\u001b[49m\u001b[38;5;124;43m\"\u001b[39;49m\u001b[38;5;124;43mproject\u001b[39;49m\u001b[38;5;124;43m\"\u001b[39;49m\u001b[43m:\u001b[49m\u001b[43m \u001b[49m\u001b[38;5;124;43m\"\u001b[39;49m\u001b[38;5;124;43m<project-name>\u001b[39;49m\u001b[38;5;124;43m\"\u001b[39;49m\u001b[43m,\u001b[49m\u001b[43m \u001b[49m\u001b[38;5;124;43m\"\u001b[39;49m\u001b[38;5;124;43mtoken\u001b[39;49m\u001b[38;5;124;43m\"\u001b[39;49m\u001b[43m:\u001b[49m\u001b[43m \u001b[49m\u001b[38;5;28;43;01mNone\u001b[39;49;00m\u001b[43m}\u001b[49m\n\u001b[1;32m      3\u001b[0m \u001b[43m    \u001b[49m\u001b[43m}\u001b[49m\u001b[43m,\u001b[49m\n\u001b[1;32m      4\u001b[0m \u001b[43m)\u001b[49m\n",
      "File \u001b[0;32m~/miniconda3/envs/pypism/lib/python3.12/site-packages/xarray/backends/api.py:572\u001b[0m, in \u001b[0;36mopen_dataset\u001b[0;34m(filename_or_obj, engine, chunks, cache, decode_cf, mask_and_scale, decode_times, decode_timedelta, use_cftime, concat_characters, decode_coords, drop_variables, inline_array, chunked_array_type, from_array_kwargs, backend_kwargs, **kwargs)\u001b[0m\n\u001b[1;32m    560\u001b[0m decoders \u001b[38;5;241m=\u001b[39m _resolve_decoders_kwargs(\n\u001b[1;32m    561\u001b[0m     decode_cf,\n\u001b[1;32m    562\u001b[0m     open_backend_dataset_parameters\u001b[38;5;241m=\u001b[39mbackend\u001b[38;5;241m.\u001b[39mopen_dataset_parameters,\n\u001b[0;32m   (...)\u001b[0m\n\u001b[1;32m    568\u001b[0m     decode_coords\u001b[38;5;241m=\u001b[39mdecode_coords,\n\u001b[1;32m    569\u001b[0m )\n\u001b[1;32m    571\u001b[0m overwrite_encoded_chunks \u001b[38;5;241m=\u001b[39m kwargs\u001b[38;5;241m.\u001b[39mpop(\u001b[38;5;124m\"\u001b[39m\u001b[38;5;124moverwrite_encoded_chunks\u001b[39m\u001b[38;5;124m\"\u001b[39m, \u001b[38;5;28;01mNone\u001b[39;00m)\n\u001b[0;32m--> 572\u001b[0m backend_ds \u001b[38;5;241m=\u001b[39m \u001b[43mbackend\u001b[49m\u001b[38;5;241;43m.\u001b[39;49m\u001b[43mopen_dataset\u001b[49m\u001b[43m(\u001b[49m\n\u001b[1;32m    573\u001b[0m \u001b[43m    \u001b[49m\u001b[43mfilename_or_obj\u001b[49m\u001b[43m,\u001b[49m\n\u001b[1;32m    574\u001b[0m \u001b[43m    \u001b[49m\u001b[43mdrop_variables\u001b[49m\u001b[38;5;241;43m=\u001b[39;49m\u001b[43mdrop_variables\u001b[49m\u001b[43m,\u001b[49m\n\u001b[1;32m    575\u001b[0m \u001b[43m    \u001b[49m\u001b[38;5;241;43m*\u001b[39;49m\u001b[38;5;241;43m*\u001b[39;49m\u001b[43mdecoders\u001b[49m\u001b[43m,\u001b[49m\n\u001b[1;32m    576\u001b[0m \u001b[43m    \u001b[49m\u001b[38;5;241;43m*\u001b[39;49m\u001b[38;5;241;43m*\u001b[39;49m\u001b[43mkwargs\u001b[49m\u001b[43m,\u001b[49m\n\u001b[1;32m    577\u001b[0m \u001b[43m\u001b[49m\u001b[43m)\u001b[49m\n\u001b[1;32m    578\u001b[0m ds \u001b[38;5;241m=\u001b[39m _dataset_from_backend_dataset(\n\u001b[1;32m    579\u001b[0m     backend_ds,\n\u001b[1;32m    580\u001b[0m     filename_or_obj,\n\u001b[0;32m   (...)\u001b[0m\n\u001b[1;32m    590\u001b[0m     \u001b[38;5;241m*\u001b[39m\u001b[38;5;241m*\u001b[39mkwargs,\n\u001b[1;32m    591\u001b[0m )\n\u001b[1;32m    592\u001b[0m \u001b[38;5;28;01mreturn\u001b[39;00m ds\n",
      "\u001b[0;31mTypeError\u001b[0m: NetCDF4BackendEntrypoint.open_dataset() got an unexpected keyword argument 'storage_options'"
     ]
    }
   ],
   "source": [
    "xr.open_dataset(\"s3://ornl-cumulus-prod-protected/daymet/Daymet_Daily_V4R1/data/daymet_v4_daily_hi_tmin_2022.nc\",     backend_kwargs={\n",
    "        \"storage_options\": {\"project\": \"<project-name>\", \"token\": None}\n",
    "    },\n",
    ")"
   ]
  },
  {
   "cell_type": "code",
   "execution_count": null,
   "id": "35de99e8-b127-4d9c-baea-47f1e1685ac0",
   "metadata": {},
   "outputs": [],
   "source": [
    "    perturbation: int = 0\n",
    "    sample: Union[list, ndarray] = [0.5, 0.5]\n",
    "    sigma: float = 1\n",
    "    total_time: float = 10_000\n",
    "    dt: float = 1\n",
    "    reverse: bool = False\n",
    "    crs: str = \"EPSG:3413\"\n",
    "\n",
    "    compute_perturbation(data_url, ogr_url, perturbation, sample)"
   ]
  }
 ],
 "metadata": {
  "kernelspec": {
   "display_name": "Python 3 (ipykernel)",
   "language": "python",
   "name": "python3"
  },
  "language_info": {
   "codemirror_mode": {
    "name": "ipython",
    "version": 3
   },
   "file_extension": ".py",
   "mimetype": "text/x-python",
   "name": "python",
   "nbconvert_exporter": "python",
   "pygments_lexer": "ipython3",
   "version": "3.12.1"
  }
 },
 "nbformat": 4,
 "nbformat_minor": 5
}
