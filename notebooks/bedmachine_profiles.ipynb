{
 "cells": [
  {
   "cell_type": "code",
   "execution_count": null,
   "id": "1ac5ceac-b33d-4850-9ea1-fecec0861479",
   "metadata": {},
   "outputs": [],
   "source": [
    "import numpy as np\n",
    "import xarray as xr\n",
    "from pathlib import Path\n",
    "import re\n",
    "import geopandas as gp\n",
    "\n",
    "from glacier_flow_tools.profiles import extract_profile_simple"
   ]
  },
  {
   "cell_type": "code",
   "execution_count": null,
   "id": "22ec8c0e-307f-4e06-a7b1-f45b732f7362",
   "metadata": {},
   "outputs": [],
   "source": [
    "profile_resolution = 250\n",
    "profiles_path = Path(\"../glacier_flow_tools/data/greenland-flux-gates-29.gpkg\")\n",
    "profiles_gp = gp.read_file(profiles_path).rename(columns={\"id\": \"profile_id\", \"name\": \"profile_name\"})\n",
    "geom = profiles_gp.segmentize(profile_resolution)\n",
    "profiles_gp = gp.GeoDataFrame(profiles_gp, geometry=geom)\n",
    "profiles_gp = profiles_gp[[\"profile_id\", \"profile_name\", \"geometry\"]]\n"
   ]
  },
  {
   "cell_type": "code",
   "execution_count": null,
   "id": "a1dedc05-f81a-4735-b7ac-a2c02860617d",
   "metadata": {},
   "outputs": [],
   "source": [
    "regexp = \"v(.+?)\"\n",
    "dim = \"exp_id\""
   ]
  },
  {
   "cell_type": "code",
   "execution_count": null,
   "id": "55352906-12ad-4a8e-8875-5a1e8b7678ab",
   "metadata": {},
   "outputs": [],
   "source": [
    "\n",
    "for k, profile in profiles_gp.iterrows():\n",
    "    if k == 0:\n",
    "        bm_files = Path(\"data/\").glob(\"BedMachine*.nc\")\n",
    "        extracted_profiles = []\n",
    "        for k, p in enumerate(sorted(list(bm_files))):\n",
    "            ds = xr.open_dataset(p, chunks=\"auto\")\n",
    "            ds.expand_dims(dim)\n",
    "            m_id_re = re.search(regexp, ds.encoding[\"source\"])\n",
    "            m_id = int(m_id_re.group(1))\n",
    "            ds[dim] = m_id\n",
    "            extracted_profiles.append(extract_profile_simple(profile, ds))\n",
    "    all_profiles = xr.concat(extracted_profiles, dim=\"exp_id\")"
   ]
  },
  {
   "cell_type": "code",
   "execution_count": null,
   "id": "7837b296-b308-4732-95e7-9ee9bfd83cb5",
   "metadata": {},
   "outputs": [],
   "source": [
    "all_profiles.profiles.plot(title=\"Test\")"
   ]
  },
  {
   "cell_type": "code",
   "execution_count": null,
   "id": "40643e1d-6814-45b1-8b1f-a6c9d5b33cf2",
   "metadata": {},
   "outputs": [],
   "source": [
    "657675-657575"
   ]
  },
  {
   "cell_type": "code",
   "execution_count": null,
   "id": "497bc432-2892-4c72-9fe8-2b8dcc4b7f73",
   "metadata": {},
   "outputs": [],
   "source": []
  }
 ],
 "metadata": {
  "kernelspec": {
   "display_name": "Python 3 (ipykernel)",
   "language": "python",
   "name": "python3"
  },
  "language_info": {
   "codemirror_mode": {
    "name": "ipython",
    "version": 3
   },
   "file_extension": ".py",
   "mimetype": "text/x-python",
   "name": "python",
   "nbconvert_exporter": "python",
   "pygments_lexer": "ipython3"
  }
 },
 "nbformat": 4,
 "nbformat_minor": 5
}
