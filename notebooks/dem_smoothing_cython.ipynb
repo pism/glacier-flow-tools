{
 "cells": [
  {
   "cell_type": "code",
   "execution_count": null,
   "id": "9d6416b7",
   "metadata": {},
   "outputs": [],
   "source": [
    "import time\n",
    "import xarray\n",
    "import numpy as np\n",
    "from matplotlib import pyplot as plt"
   ]
  },
  {
   "cell_type": "markdown",
   "id": "cd9e0b98",
   "metadata": {},
   "source": [
    "### Loading data"
   ]
  },
  {
   "cell_type": "code",
   "execution_count": null,
   "id": "a7f36cc9",
   "metadata": {},
   "outputs": [],
   "source": [
    "ds = xarray.open_dataset(\"data/BedMachineGreenland-v5.nc\").coarsen(x=5, y=5, boundary=\"pad\").mean()"
   ]
  },
  {
   "cell_type": "code",
   "execution_count": null,
   "id": "bbf914bb-52b6-445e-8d89-3eaaee9c5c40",
   "metadata": {},
   "outputs": [],
   "source": [
    "ds"
   ]
  },
  {
   "cell_type": "code",
   "execution_count": null,
   "id": "290c7817",
   "metadata": {},
   "outputs": [],
   "source": [
    "ds = ds.sel(x=slice(-226_000, -140_000), y=slice(-2_250_000, -2_300_000))\n",
    "ds"
   ]
  },
  {
   "cell_type": "code",
   "execution_count": null,
   "id": "b635a3f3",
   "metadata": {},
   "outputs": [],
   "source": [
    "x = ds[\"surface\"].x\n",
    "y = ds[\"surface\"].y\n",
    "surface = np.array(ds[\"surface\"], dtype=np.float64)\n",
    "thickness = np.array(ds[\"thickness\"], dtype=np.float64)"
   ]
  },
  {
   "cell_type": "markdown",
   "id": "c2beec6e",
   "metadata": {},
   "source": [
    "### Smoothing the surface elevation DEM"
   ]
  },
  {
   "cell_type": "code",
   "execution_count": null,
   "id": "f26c317a",
   "metadata": {},
   "outputs": [],
   "source": [
    "import dem_smoothing"
   ]
  },
  {
   "cell_type": "code",
   "execution_count": null,
   "id": "77a4b489",
   "metadata": {},
   "outputs": [],
   "source": [
    "dx = abs(float(x[1] - x[0]))\n",
    "dy = abs(float(y[1] - y[0]))\n",
    "dx,dy"
   ]
  },
  {
   "cell_type": "code",
   "execution_count": null,
   "id": "bdf3853b",
   "metadata": {},
   "outputs": [],
   "source": [
    "sigma_k = 4.0 # sigma = 4 ice thicknesses\n",
    "w_k = 3.0     # smoothing window half width = 3 sigma \n",
    "w_max = 10**4 # maximum half-width (large enough to be avoid limiting)\n",
    "\n",
    "start = time.time()\n",
    "smoothed_gaussian = dem_smoothing.smooth_gaussian(surface, thickness, sigma_k, w_k, w_max, dx, dy)\n",
    "end = time.time()\n",
    "print(f\"Smoothing using the Gaussian filter took {end - start} seconds\")"
   ]
  },
  {
   "cell_type": "code",
   "execution_count": null,
   "id": "2ab4150f",
   "metadata": {},
   "outputs": [],
   "source": [
    "sigma_k = 10.0 # sigma is 10 ice thicknesses\n",
    "w_max = 10**4  # maximum half-width (large enough to be avoid limiting)\n",
    "\n",
    "start = time.time()\n",
    "smoothed_triangular = dem_smoothing.smooth_triangular(surface, thickness, sigma_k, w_max, dx, dy)\n",
    "end = time.time()\n",
    "print(f\"Smoothing using the triangular filter took {end - start} seconds\")"
   ]
  },
  {
   "cell_type": "markdown",
   "id": "4132345e",
   "metadata": {},
   "source": [
    "### Plotting original and smoothed DEM"
   ]
  },
  {
   "cell_type": "code",
   "execution_count": null,
   "id": "0a61fdfa",
   "metadata": {},
   "outputs": [],
   "source": [
    "fig, axs = plt.subplots(2)\n",
    "fig.set_size_inches(20, 20)\n",
    "axs[0].imshow(surface)\n",
    "axs[1].imshow(smoothed_triangular)"
   ]
  },
  {
   "cell_type": "markdown",
   "id": "d6864de6",
   "metadata": {},
   "source": [
    "### Visualizing the filter"
   ]
  },
  {
   "cell_type": "code",
   "execution_count": null,
   "id": "25acf54e",
   "metadata": {},
   "outputs": [],
   "source": [
    "N = 201\n",
    "x = np.linspace(-3, 3, N)\n",
    "y = x\n",
    "\n",
    "xx,yy = np.meshgrid(x, y)"
   ]
  },
  {
   "cell_type": "code",
   "execution_count": null,
   "id": "7666bb79",
   "metadata": {},
   "outputs": [],
   "source": [
    "f = np.vectorize(dem_smoothing.triangular)\n",
    "g = np.vectorize(dem_smoothing.gaussian)"
   ]
  },
  {
   "cell_type": "code",
   "execution_count": null,
   "id": "1c4d7eae",
   "metadata": {},
   "outputs": [],
   "source": [
    "fig, axs = plt.subplots(2)\n",
    "fig.set_size_inches(20, 10)\n",
    "axs[0].plot(x, f(1, x, 0))\n",
    "axs[1].plot(x, g(1, x, 0))"
   ]
  },
  {
   "cell_type": "code",
   "execution_count": null,
   "id": "d824b014-a636-43f4-864f-afdb1592ad1d",
   "metadata": {},
   "outputs": [],
   "source": [
    "openmp.omp_set_num_threads(num_threads)"
   ]
  },
  {
   "cell_type": "code",
   "execution_count": null,
   "id": "d21ee524-140a-488b-9ae5-0bb7d6ed2ff3",
   "metadata": {},
   "outputs": [],
   "source": [
    "cimport openmp"
   ]
  },
  {
   "cell_type": "code",
   "execution_count": null,
   "id": "7305a35f-e9fd-4cc3-b061-bca3b447bbec",
   "metadata": {},
   "outputs": [],
   "source": [
    "np.rad2deg(np.arctan(300/10000) )"
   ]
  },
  {
   "cell_type": "code",
   "execution_count": null,
   "id": "a1bbc40b-108b-4845-83ca-8dccdfc03f26",
   "metadata": {},
   "outputs": [],
   "source": []
  }
 ],
 "metadata": {
  "kernelspec": {
   "display_name": "Python 3 (ipykernel)",
   "language": "python",
   "name": "python3"
  },
  "language_info": {
   "codemirror_mode": {
    "name": "ipython",
    "version": 3
   },
   "file_extension": ".py",
   "mimetype": "text/x-python",
   "name": "python",
   "nbconvert_exporter": "python",
   "pygments_lexer": "ipython3"
  }
 },
 "nbformat": 4,
 "nbformat_minor": 5
}
