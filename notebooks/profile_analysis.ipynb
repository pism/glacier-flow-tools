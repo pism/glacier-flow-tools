{
 "cells": [
  {
   "cell_type": "code",
   "execution_count": null,
   "id": "e7a31451-dff4-4ea7-bdd9-a64192983132",
   "metadata": {},
   "outputs": [],
   "source": [
    "from pyproj import Proj\n",
    "from pathlib import Path\n",
    "from pypism.profiles import extract_profile, add_function, compute_normals, compute_tangentials, distance_from_start\n",
    "from pypism.interpolation import InterpolationMatrix\n",
    "import numpy as np\n",
    "import xarray as xr\n",
    "import geopandas as gp\n",
    "from copy import deepcopy"
   ]
  },
  {
   "cell_type": "code",
   "execution_count": null,
   "id": "4293ffc2-920d-4853-8a07-6376071d83d6",
   "metadata": {},
   "outputs": [],
   "source": [
    "profiles_path = Path(\"../tests/data/greenland-flux-gates-29_500m.gpkg\")\n",
    "profiles_gp = gp.read_file(profiles_path)"
   ]
  },
  {
   "cell_type": "code",
   "execution_count": null,
   "id": "a3062049-fd94-4348-b1b1-e415450fc3c3",
   "metadata": {},
   "outputs": [],
   "source": [
    "obs_file = Path(\"../tests/data/test_vel_g9000m.nc\")\n",
    "ds = xr.open_dataset(obs_file)\n",
    "ds = xr.open_dataset(Path(\"../tests/data/velsurf_mag_gris_g9000m_id_0_0_50.nc\"))"
   ]
  },
  {
   "cell_type": "code",
   "execution_count": null,
   "id": "278034c1-6b2d-4701-8c73-f17ce99ce4ad",
   "metadata": {},
   "outputs": [],
   "source": [
    "profiles_gp[\"nx\"] = profiles_gp.apply(lambda row: add_function(compute_normals, row[\"geometry\"])[0], axis=1)\n",
    "profiles_gp[\"ny\"] = profiles_gp.apply(lambda row: add_function(compute_tangentials, row[\"geometry\"])[0], axis=1)\n",
    "profiles_gp[\"distance_from_start\"] = profiles_gp.apply(lambda row: add_function(distance_from_start, row[\"geometry\"]), axis=1)\n",
    "for m_var in ds.data_vars:\n",
    "    if m_var not in (\"mapping\", \"lon_bounds\", \"lon_bnds\", \"lat_bounds\", \"lat_bnds\", \"time_bounds\", \"time_bnds\"):\n",
    "        profiles_gp[m_var] = profiles_gp.apply(lambda row: extract_profile(ds[m_var], row)[0], axis=1)"
   ]
  },
  {
   "cell_type": "code",
   "execution_count": null,
   "id": "09410ca6-2365-44b8-9e9c-a9764a83925a",
   "metadata": {},
   "outputs": [],
   "source": [
    "pism_files = Path(\"../tests/data\").glob(\"vel*.nc\")"
   ]
  },
  {
   "cell_type": "code",
   "execution_count": null,
   "id": "9c2578f6-ad94-4463-b774-7dce1ce6c9d9",
   "metadata": {},
   "outputs": [],
   "source": [
    "p_gp = deepcopy(profiles_gp)\n",
    "experiments = []\n",
    "for experiment_file in pism_files:\n",
    "    print(experiment_file)\n",
    "    ds = xr.open_dataset(experiment_file)\n",
    "    print(ds)\n",
    "    p_gp[\"nx\"] = p_gp.apply(lambda row: add_function(compute_normals, row[\"geometry\"])[0], axis=1)\n",
    "    p_gp[\"ny\"] = p_gp.apply(lambda row: add_function(compute_tangentials, row[\"geometry\"])[0], axis=1)\n",
    "    p_gp[\"distance_from_start\"] = p_gp.apply(lambda row: add_function(distance_from_start, row[\"geometry\"]), axis=1)\n",
    "    for m_var in ds.data_vars:\n",
    "        if m_var not in (\"mapping\", \"lon_bounds\", \"lon_bnds\", \"lat_bounds\", \"lat_bnds\", \"time_bounds\", \"time_bnds\"):\n",
    "            p_gp[m_var] = p_gp.apply(lambda row: extract_profile(ds[m_var], row)[0], axis=1)\n",
    "    experiments.append(p_gp)"
   ]
  },
  {
   "cell_type": "code",
   "execution_count": null,
   "id": "57781a0e-7133-491d-9207-601b40d296a3",
   "metadata": {},
   "outputs": [],
   "source": [
    "experiments"
   ]
  },
  {
   "cell_type": "code",
   "execution_count": null,
   "id": "74b1a087-8e92-47b9-a6d3-ad81982d16e7",
   "metadata": {},
   "outputs": [],
   "source": []
  }
 ],
 "metadata": {
  "kernelspec": {
   "display_name": "Python 3 (ipykernel)",
   "language": "python",
   "name": "python3"
  },
  "language_info": {
   "codemirror_mode": {
    "name": "ipython",
    "version": 3
   },
   "file_extension": ".py",
   "mimetype": "text/x-python",
   "name": "python",
   "nbconvert_exporter": "python",
   "pygments_lexer": "ipython3",
   "version": "3.12.1"
  }
 },
 "nbformat": 4,
 "nbformat_minor": 5
}
