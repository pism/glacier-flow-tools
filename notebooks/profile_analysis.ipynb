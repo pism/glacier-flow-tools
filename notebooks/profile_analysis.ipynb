{
 "cells": [
  {
   "cell_type": "markdown",
   "id": "853cb685-f74f-415f-9061-9c9a1f74898e",
   "metadata": {},
   "source": [
    "# Extract profiles (Aschwanden, Truffer, and Fahnestock, 2016)"
   ]
  },
  {
   "cell_type": "code",
   "execution_count": null,
   "id": "e7a31451-dff4-4ea7-bdd9-a64192983132",
   "metadata": {},
   "outputs": [],
   "source": [
    "import cartopy.crs as ccrs\n",
    "\n",
    "import geopandas as gp\n",
    "from joblib import Parallel, delayed\n",
    "import numpy as np\n",
    "import pandas as pd\n",
    "from pathlib import Path\n",
    "import pylab as plt\n",
    "from matplotlib import colors, cm\n",
    "from matplotlib.colors import LightSource\n",
    "import matplotlib.ticker as mticker\n",
    "from tqdm.auto import tqdm\n",
    "import xarray as xr\n",
    "\n",
    "from pypism import profiles\n",
    "from pypism.profiles import process_profile\n",
    "from pypism.utils import preprocess_nc\n",
    "from pypism.hillshade import hillshade\n",
    "from pypism.utils import qgis2cmap, tqdm_joblib, blend_multiply"
   ]
  },
  {
   "cell_type": "markdown",
   "id": "19f0eda5-7299-4f22-baa0-66cca023319b",
   "metadata": {},
   "source": [
    "## Resolution along profiles"
   ]
  },
  {
   "cell_type": "code",
   "execution_count": null,
   "id": "e933df45-9218-4c8c-8b38-06603ded176d",
   "metadata": {},
   "outputs": [],
   "source": [
    "profile_resolution = 200 # m"
   ]
  },
  {
   "cell_type": "markdown",
   "id": "85b62990-1ce1-47fc-a61a-74f518721ca2",
   "metadata": {},
   "source": [
    "## Load profiles and segmentize"
   ]
  },
  {
   "cell_type": "code",
   "execution_count": null,
   "id": "4293ffc2-920d-4853-8a07-6376071d83d6",
   "metadata": {},
   "outputs": [],
   "source": [
    "profiles_path = Path(\"../data/greenland-flux-gates.gpkg\")\n",
    "profiles_gp = gp.read_file(profiles_path).rename(columns={\"id\": \"profile_id\"})\n",
    "geom = profiles_gp.segmentize(profile_resolution)\n",
    "profiles_gp = gp.GeoDataFrame(profiles_gp, geometry=geom)"
   ]
  },
  {
   "cell_type": "markdown",
   "id": "001bda2b-f2d7-4dac-8adf-1c5f366ac9b5",
   "metadata": {},
   "source": [
    "## Load observed velocities"
   ]
  },
  {
   "cell_type": "code",
   "execution_count": null,
   "id": "a3062049-fd94-4348-b1b1-e415450fc3c3",
   "metadata": {},
   "outputs": [],
   "source": [
    "!pip install toml"
   ]
  },
  {
   "cell_type": "markdown",
   "id": "8841f69f-a65b-4490-94c6-cdcc19e95862",
   "metadata": {},
   "source": [
    "## Load Ensemble Experiments"
   ]
  },
  {
   "cell_type": "code",
   "execution_count": null,
   "id": "30df9fed-6c19-4cc7-a0bb-a4585632a22b",
   "metadata": {},
   "outputs": [],
   "source": [
    "from typing import Union\n",
    "import numpy as np\n",
    "import pylab as np\n",
    "from shapely import get_coordinates\n",
    "import cartopy.crs as ccrs\n",
    "import cf_xarray.units  # pylint: disable=unused-import\n",
    "import geopandas as gp\n",
    "import numpy as np\n",
    "import pint_xarray  # pylint: disable=unused-import\n",
    "import pylab as plt\n",
    "import seaborn as sns\n",
    "import xarray as xr\n",
    "from matplotlib import cm, colors\n",
    "from matplotlib.colors import LightSource\n",
    "\n",
    "from glacier_flow_tools.utils import blend_multiply, figure_extent, get_dataarray_extent, register_colormaps\n"
   ]
  },
  {
   "cell_type": "markdown",
   "id": "0b7df8aa-a331-4835-9964-4e520ce5650a",
   "metadata": {},
   "source": [
    "## Extract all profiles"
   ]
  },
  {
   "cell_type": "code",
   "execution_count": null,
   "id": "1e7f4b43-994e-4732-8242-dc29a47928c7",
   "metadata": {},
   "outputs": [],
   "source": [
    "cd ~/base/glacier-flow-tools/"
   ]
  },
  {
   "cell_type": "markdown",
   "id": "3bb42e6e-f164-4ef5-a417-53e48df3c209",
   "metadata": {},
   "source": [
    "## Plot profiles"
   ]
  },
  {
   "cell_type": "code",
   "execution_count": null,
   "id": "a3035ec9-8793-4ba4-a173-a0fd530dfa8f",
   "metadata": {},
   "outputs": [],
   "source": [
    "run profiles/compute_profiles.py --n_jobs 4 --alpha 0.05 --project_file glacier_flow_tools/data/basic.toml --result_dir profiles/2024_04_dev --velocity_url notebooks/GRE_G0240_0000.nc --profiles_url glacier_flow_tools/data/greenland-flux-gates-5.gpkg \"~/Google Drive/My Drive/Projects/gris-calib/data/2024_04_init_bedmachine/state/gris_g1800m_v*_GrIMP_id_CTRL_0_20.nc\""
   ]
  },
  {
   "cell_type": "code",
   "execution_count": null,
   "id": "d9b0d018-66bf-465b-a2c7-432e0a329449",
   "metadata": {},
   "outputs": [],
   "source": [
    "exp_ds.chunk({\"exp_id\": -1}).velsurf_mag"
   ]
  },
  {
   "cell_type": "code",
   "execution_count": null,
   "id": "a2df50c3-0d80-4666-9155-16d85526c9a8",
   "metadata": {},
   "outputs": [],
   "source": [
    "obs_sims_profiles, stats_profiles = [p[0] for p in f], dd.concat([p[1] for p in f])\n"
   ]
  },
  {
   "cell_type": "code",
   "execution_count": null,
   "id": "af80d0f3-941c-41a4-aa62-961ff2dba5b7",
   "metadata": {},
   "outputs": [],
   "source": [
    "    obs_sims_profiles, stats_profiles = [p[0] for p in futures_computed], dd.concat([p[1] for p in futures_computed])\n"
   ]
  },
  {
   "cell_type": "code",
   "execution_count": null,
   "id": "6688f2b1-f0c7-4936-b6d4-5cb00aa407b4",
   "metadata": {},
   "outputs": [],
   "source": [
    "    futures_computed = client.gather(client.compute(futures))\n",
    "    progress(futures_computed)\n",
    "    obs_sims_profiles, stats_profiles = [p[0] for p in futures_computed], dd.concat([p[1] for p in futures_computed])\n"
   ]
  },
  {
   "cell_type": "code",
   "execution_count": null,
   "id": "dc80dbc6-fd16-4d98-9193-72de0d3f17c0",
   "metadata": {},
   "outputs": [],
   "source": [
    "clear"
   ]
  },
  {
   "cell_type": "code",
   "execution_count": null,
   "id": "a2cc9c37-d164-4a20-bf30-ca367874636d",
   "metadata": {},
   "outputs": [],
   "source": [
    "client"
   ]
  },
  {
   "cell_type": "code",
   "execution_count": null,
   "id": "75264f10-007e-4d2b-bc16-ac47c508312f",
   "metadata": {},
   "outputs": [],
   "source": [
    "import logging"
   ]
  },
  {
   "cell_type": "code",
   "execution_count": null,
   "id": "9913f787-600c-440e-853c-c6cd6559dd8d",
   "metadata": {},
   "outputs": [],
   "source": [
    "logging.CR"
   ]
  }
 ],
 "metadata": {
  "kernelspec": {
   "display_name": "Python 3 (ipykernel)",
   "language": "python",
   "name": "python3"
  },
  "language_info": {
   "codemirror_mode": {
    "name": "ipython",
    "version": 3
   },
   "file_extension": ".py",
   "mimetype": "text/x-python",
   "name": "python",
   "nbconvert_exporter": "python",
   "pygments_lexer": "ipython3"
  }
 },
 "nbformat": 4,
 "nbformat_minor": 5
}
