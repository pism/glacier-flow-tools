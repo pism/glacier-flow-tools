{
 "cells": [
  {
   "cell_type": "code",
   "execution_count": 1,
   "id": "e7a31451-dff4-4ea7-bdd9-a64192983132",
   "metadata": {},
   "outputs": [],
   "source": [
    "from pathlib import Path\n",
    "import numpy as np\n",
    "import xarray as xr\n",
    "import geopandas as gp\n",
    "import pylab as plt\n",
    "import pandas as pd\n",
    "from matplotlib import colors, cm\n",
    "from matplotlib.colors import LightSource\n",
    "\n",
    "from pypism import profiles\n",
    "from pypism.profiles import extract_profile, process_profile\n",
    "from pypism.utils import preprocess_nc\n",
    "from pypism.hillshade import hillshade\n",
    "from pypism.utils import qgis2cmap"
   ]
  },
  {
   "cell_type": "code",
   "execution_count": 2,
   "id": "4293ffc2-920d-4853-8a07-6376071d83d6",
   "metadata": {},
   "outputs": [],
   "source": [
    "profiles_path = Path(\"../tests/data/greenland-flux-gates-29_500m.gpkg\")\n",
    "profiles_path = Path(\"../data/greenland-flux-gates.gpkg\")\n",
    "profiles_gp = gp.read_file(profiles_path).rename(columns={\"id\": \"profile_id\"})\n",
    "geom = profiles_gp.segmentize(500)\n",
    "profiles_gp = gp.GeoDataFrame(profiles_gp, geometry=geom)"
   ]
  },
  {
   "cell_type": "code",
   "execution_count": 3,
   "id": "a3062049-fd94-4348-b1b1-e415450fc3c3",
   "metadata": {},
   "outputs": [],
   "source": [
    "obs_file = Path(\"/Users/andy/Google Drive/My Drive/data/ITS_LIVE/GRE_G0240_0000.nc\")\n",
    "obs_ds = xr.open_dataset(obs_file)"
   ]
  },
  {
   "cell_type": "code",
   "execution_count": 4,
   "id": "30df9fed-6c19-4cc7-a0bb-a4585632a22b",
   "metadata": {},
   "outputs": [],
   "source": [
    "pism_files = list(Path(\"../tests/data\").glob(\"vel*.nc\"))\n",
    "pism_files = list(Path(\"/Users/andy/Google Drive/My Drive/Projects/gris-calib/data\").glob(\"velsurf_mag_gris*.nc\"))"
   ]
  },
  {
   "cell_type": "code",
   "execution_count": 5,
   "id": "d97aa77e-f7a6-42e4-a979-bc290993c3c8",
   "metadata": {},
   "outputs": [],
   "source": [
    "sim_ds = xr.open_mfdataset(pism_files, \n",
    "                  preprocess=preprocess_nc,\n",
    "                  concat_dim=\"exp_id\",\n",
    "                  combine=\"nested\",\n",
    "                  parallel=True)"
   ]
  },
  {
   "cell_type": "code",
   "execution_count": 6,
   "id": "2f8c7391-8368-45f2-8da3-4d7c3274f142",
   "metadata": {},
   "outputs": [
    {
     "data": {
      "text/html": [
       "<div>\n",
       "<style scoped>\n",
       "    .dataframe tbody tr th:only-of-type {\n",
       "        vertical-align: middle;\n",
       "    }\n",
       "\n",
       "    .dataframe tbody tr th {\n",
       "        vertical-align: top;\n",
       "    }\n",
       "\n",
       "    .dataframe thead th {\n",
       "        text-align: right;\n",
       "    }\n",
       "</style>\n",
       "<table border=\"1\" class=\"dataframe\">\n",
       "  <thead>\n",
       "    <tr style=\"text-align: right;\">\n",
       "      <th></th>\n",
       "      <th>profile_id</th>\n",
       "      <th>name</th>\n",
       "      <th>length</th>\n",
       "      <th>clon</th>\n",
       "      <th>clat</th>\n",
       "      <th>flightline</th>\n",
       "      <th>gtype</th>\n",
       "      <th>ftype</th>\n",
       "      <th>basin</th>\n",
       "      <th>geometry</th>\n",
       "    </tr>\n",
       "  </thead>\n",
       "  <tbody>\n",
       "    <tr>\n",
       "      <th>0</th>\n",
       "      <td>148</td>\n",
       "      <td>Kangerdlugssuaq Gletscher</td>\n",
       "      <td>7208.0</td>\n",
       "      <td>-30.0285</td>\n",
       "      <td>67.50683</td>\n",
       "      <td>2.0</td>\n",
       "      <td>0.0</td>\n",
       "      <td>0</td>\n",
       "      <td>3.3</td>\n",
       "      <td>LINESTRING (483605.659 -2294795.528, 483889.74...</td>\n",
       "    </tr>\n",
       "    <tr>\n",
       "      <th>1</th>\n",
       "      <td>20</td>\n",
       "      <td>Helheimgletscher</td>\n",
       "      <td>7798.0</td>\n",
       "      <td>-32.2970</td>\n",
       "      <td>66.05382</td>\n",
       "      <td>2.0</td>\n",
       "      <td>0.0</td>\n",
       "      <td>0</td>\n",
       "      <td>4.1</td>\n",
       "      <td>LINESTRING (304477.940 -2581625.466, 304515.55...</td>\n",
       "    </tr>\n",
       "    <tr>\n",
       "      <th>2</th>\n",
       "      <td>15</td>\n",
       "      <td>Nioghalvfjerdsfiorden (79North)</td>\n",
       "      <td>33179.0</td>\n",
       "      <td>-16.3719</td>\n",
       "      <td>79.97490</td>\n",
       "      <td>1.0</td>\n",
       "      <td>2.0</td>\n",
       "      <td>1</td>\n",
       "      <td>2.1</td>\n",
       "      <td>LINESTRING (452477.632 -1081965.747, 452049.74...</td>\n",
       "    </tr>\n",
       "    <tr>\n",
       "      <th>3</th>\n",
       "      <td>16</td>\n",
       "      <td>Zachariæ Isstrøm</td>\n",
       "      <td>26328.0</td>\n",
       "      <td>-16.0252</td>\n",
       "      <td>78.60965</td>\n",
       "      <td>1.0</td>\n",
       "      <td>2.0</td>\n",
       "      <td>1</td>\n",
       "      <td>2.1</td>\n",
       "      <td>LINESTRING (491812.972 -1112203.670, 491609.74...</td>\n",
       "    </tr>\n",
       "    <tr>\n",
       "      <th>4</th>\n",
       "      <td>12</td>\n",
       "      <td>Humboldt Gletscher</td>\n",
       "      <td>109909.0</td>\n",
       "      <td>-69.2475</td>\n",
       "      <td>79.58482</td>\n",
       "      <td>1.0</td>\n",
       "      <td>1.0</td>\n",
       "      <td>1</td>\n",
       "      <td>1.1</td>\n",
       "      <td>LINESTRING (-342282.835 -1040260.781, -342617....</td>\n",
       "    </tr>\n",
       "    <tr>\n",
       "      <th>...</th>\n",
       "      <td>...</td>\n",
       "      <td>...</td>\n",
       "      <td>...</td>\n",
       "      <td>...</td>\n",
       "      <td>...</td>\n",
       "      <td>...</td>\n",
       "      <td>...</td>\n",
       "      <td>...</td>\n",
       "      <td>...</td>\n",
       "      <td>...</td>\n",
       "    </tr>\n",
       "    <tr>\n",
       "      <th>175</th>\n",
       "      <td>175</td>\n",
       "      <td>Qooqqup Sermia</td>\n",
       "      <td>NaN</td>\n",
       "      <td>NaN</td>\n",
       "      <td>NaN</td>\n",
       "      <td>0.0</td>\n",
       "      <td>4.0</td>\n",
       "      <td>0</td>\n",
       "      <td>5.0</td>\n",
       "      <td>LINESTRING (-10354.025 -3181549.827, -9992.162...</td>\n",
       "    </tr>\n",
       "    <tr>\n",
       "      <th>176</th>\n",
       "      <td>176</td>\n",
       "      <td>Qajuuttap Sermia</td>\n",
       "      <td>NaN</td>\n",
       "      <td>NaN</td>\n",
       "      <td>NaN</td>\n",
       "      <td>0.0</td>\n",
       "      <td>NaN</td>\n",
       "      <td>0</td>\n",
       "      <td>5.0</td>\n",
       "      <td>LINESTRING (-43677.623 -3164116.053, -43364.00...</td>\n",
       "    </tr>\n",
       "    <tr>\n",
       "      <th>177</th>\n",
       "      <td>177</td>\n",
       "      <td>Sermiligaarssuk Bræ</td>\n",
       "      <td>NaN</td>\n",
       "      <td>NaN</td>\n",
       "      <td>NaN</td>\n",
       "      <td>1.0</td>\n",
       "      <td>NaN</td>\n",
       "      <td>0</td>\n",
       "      <td>5.0</td>\n",
       "      <td>LINESTRING (-173830.797 -3127615.042, -173467....</td>\n",
       "    </tr>\n",
       "    <tr>\n",
       "      <th>178</th>\n",
       "      <td>178</td>\n",
       "      <td>Avannarleq Bræ</td>\n",
       "      <td>NaN</td>\n",
       "      <td>NaN</td>\n",
       "      <td>NaN</td>\n",
       "      <td>1.0</td>\n",
       "      <td>NaN</td>\n",
       "      <td>0</td>\n",
       "      <td>5.0</td>\n",
       "      <td>LINESTRING (-210716.174 -3055524.016, -210450....</td>\n",
       "    </tr>\n",
       "    <tr>\n",
       "      <th>179</th>\n",
       "      <td>179</td>\n",
       "      <td>Akullersuup Sermia</td>\n",
       "      <td>NaN</td>\n",
       "      <td>NaN</td>\n",
       "      <td>NaN</td>\n",
       "      <td>2.0</td>\n",
       "      <td>NaN</td>\n",
       "      <td>0</td>\n",
       "      <td>6.1</td>\n",
       "      <td>LINESTRING (-220169.808 -2809414.925, -219957....</td>\n",
       "    </tr>\n",
       "  </tbody>\n",
       "</table>\n",
       "<p>180 rows × 10 columns</p>\n",
       "</div>"
      ],
      "text/plain": [
       "     profile_id                             name    length     clon      clat  \\\n",
       "0           148        Kangerdlugssuaq Gletscher    7208.0 -30.0285  67.50683   \n",
       "1            20                 Helheimgletscher    7798.0 -32.2970  66.05382   \n",
       "2            15  Nioghalvfjerdsfiorden (79North)   33179.0 -16.3719  79.97490   \n",
       "3            16                 Zachariæ Isstrøm   26328.0 -16.0252  78.60965   \n",
       "4            12               Humboldt Gletscher  109909.0 -69.2475  79.58482   \n",
       "..          ...                              ...       ...      ...       ...   \n",
       "175         175                   Qooqqup Sermia       NaN      NaN       NaN   \n",
       "176         176                 Qajuuttap Sermia       NaN      NaN       NaN   \n",
       "177         177              Sermiligaarssuk Bræ       NaN      NaN       NaN   \n",
       "178         178                   Avannarleq Bræ       NaN      NaN       NaN   \n",
       "179         179               Akullersuup Sermia       NaN      NaN       NaN   \n",
       "\n",
       "     flightline  gtype  ftype  basin  \\\n",
       "0           2.0    0.0      0    3.3   \n",
       "1           2.0    0.0      0    4.1   \n",
       "2           1.0    2.0      1    2.1   \n",
       "3           1.0    2.0      1    2.1   \n",
       "4           1.0    1.0      1    1.1   \n",
       "..          ...    ...    ...    ...   \n",
       "175         0.0    4.0      0    5.0   \n",
       "176         0.0    NaN      0    5.0   \n",
       "177         1.0    NaN      0    5.0   \n",
       "178         1.0    NaN      0    5.0   \n",
       "179         2.0    NaN      0    6.1   \n",
       "\n",
       "                                              geometry  \n",
       "0    LINESTRING (483605.659 -2294795.528, 483889.74...  \n",
       "1    LINESTRING (304477.940 -2581625.466, 304515.55...  \n",
       "2    LINESTRING (452477.632 -1081965.747, 452049.74...  \n",
       "3    LINESTRING (491812.972 -1112203.670, 491609.74...  \n",
       "4    LINESTRING (-342282.835 -1040260.781, -342617....  \n",
       "..                                                 ...  \n",
       "175  LINESTRING (-10354.025 -3181549.827, -9992.162...  \n",
       "176  LINESTRING (-43677.623 -3164116.053, -43364.00...  \n",
       "177  LINESTRING (-173830.797 -3127615.042, -173467....  \n",
       "178  LINESTRING (-210716.174 -3055524.016, -210450....  \n",
       "179  LINESTRING (-220169.808 -2809414.925, -219957....  \n",
       "\n",
       "[180 rows x 10 columns]"
      ]
     },
     "execution_count": 6,
     "metadata": {},
     "output_type": "execute_result"
    }
   ],
   "source": [
    "profiles_gp"
   ]
  },
  {
   "cell_type": "code",
   "execution_count": 7,
   "id": "cd501674-8696-4ca6-94a9-5726e8801802",
   "metadata": {},
   "outputs": [
    {
     "name": "stderr",
     "output_type": "stream",
     "text": [
      "/Users/andy/miniconda3/envs/pypism/lib/python3.12/site-packages/tqdm/auto.py:21: TqdmWarning: IProgress not found. Please update jupyter and ipywidgets. See https://ipywidgets.readthedocs.io/en/stable/user_install.html\n",
      "  from .autonotebook import tqdm as notebook_tqdm\n"
     ]
    }
   ],
   "source": [
    "import contextlib\n",
    "import joblib\n",
    "from joblib import Parallel, delayed\n",
    "from tqdm.auto import tqdm\n",
    "\n",
    "@contextlib.contextmanager\n",
    "def tqdm_joblib(tqdm_object):\n",
    "    \"\"\"Context manager to patch joblib to report into tqdm progress bar given as argument\"\"\"\n",
    "\n",
    "    class TqdmBatchCompletionCallback(joblib.parallel.BatchCompletionCallBack):\n",
    "        \"\"\"TQDM Callback\"\"\"\n",
    "\n",
    "        def __call__(self, *args, **kwargs):\n",
    "            tqdm_object.update(n=self.batch_size)\n",
    "            return super().__call__(*args, **kwargs)\n",
    "\n",
    "    old_batch_callback = joblib.parallel.BatchCompletionCallBack\n",
    "    joblib.parallel.BatchCompletionCallBack = TqdmBatchCompletionCallback\n",
    "    try:\n",
    "        yield tqdm_object\n",
    "    finally:\n",
    "        joblib.parallel.BatchCompletionCallBack = old_batch_callback\n",
    "        tqdm_object.close()\n"
   ]
  },
  {
   "cell_type": "code",
   "execution_count": 8,
   "id": "1e7f4b43-994e-4732-8242-dc29a47928c7",
   "metadata": {},
   "outputs": [
    {
     "name": "stderr",
     "output_type": "stream",
     "text": [
      "Processing profiles:  37%|███████████████████████████████████████████████████████▊                                                                                              | 67/180 [00:02<00:02, 37.96it/s]/Users/andy/base/pypism/pypism/profiles.py:111: RuntimeWarning: Mean of empty slice\n",
      "  rmsd = np.sqrt(np.nanmean((df[col1] - df[col2])**2))\n",
      "Processing profiles:  42%|██████████████████████████████████████████████████████████████▌                                                                                       | 75/180 [00:02<00:02, 40.48it/s]/Users/andy/miniconda3/envs/pypism/lib/python3.12/site-packages/numpy/lib/function_base.py:2889: RuntimeWarning: Degrees of freedom <= 0 for slice\n",
      "  c = cov(x, y, rowvar, dtype=dtype)\n",
      "/Users/andy/miniconda3/envs/pypism/lib/python3.12/site-packages/numpy/lib/function_base.py:2748: RuntimeWarning: divide by zero encountered in divide\n",
      "  c *= np.true_divide(1, fact)\n",
      "/Users/andy/miniconda3/envs/pypism/lib/python3.12/site-packages/numpy/lib/function_base.py:2748: RuntimeWarning: invalid value encountered in multiply\n",
      "  c *= np.true_divide(1, fact)\n",
      "/Users/andy/base/pypism/pypism/profiles.py:111: RuntimeWarning: Mean of empty slice\n",
      "  rmsd = np.sqrt(np.nanmean((df[col1] - df[col2])**2))\n",
      "Processing profiles:  46%|█████████████████████████████████████████████████████████████████████▏                                                                                | 83/180 [00:02<00:02, 42.07it/s]/Users/andy/base/pypism/pypism/profiles.py:111: RuntimeWarning: Mean of empty slice\n",
      "  rmsd = np.sqrt(np.nanmean((df[col1] - df[col2])**2))\n",
      "/Users/andy/base/pypism/pypism/profiles.py:111: RuntimeWarning: Mean of empty slice\n",
      "  rmsd = np.sqrt(np.nanmean((df[col1] - df[col2])**2))\n",
      "/Users/andy/base/pypism/pypism/profiles.py:111: RuntimeWarning: Mean of empty slice\n",
      "  rmsd = np.sqrt(np.nanmean((df[col1] - df[col2])**2))\n",
      "/Users/andy/base/pypism/pypism/profiles.py:111: RuntimeWarning: Mean of empty slice\n",
      "  rmsd = np.sqrt(np.nanmean((df[col1] - df[col2])**2))\n",
      "/Users/andy/base/pypism/pypism/profiles.py:111: RuntimeWarning: Mean of empty slice\n",
      "  rmsd = np.sqrt(np.nanmean((df[col1] - df[col2])**2))\n",
      "Processing profiles:  51%|███████████████████████████████████████████████████████████████████████████▊                                                                          | 91/180 [00:03<00:02, 41.47it/s]/Users/andy/base/pypism/pypism/profiles.py:111: RuntimeWarning: Mean of empty slice\n",
      "  rmsd = np.sqrt(np.nanmean((df[col1] - df[col2])**2))\n",
      "/Users/andy/base/pypism/pypism/profiles.py:111: RuntimeWarning: Mean of empty slice\n",
      "  rmsd = np.sqrt(np.nanmean((df[col1] - df[col2])**2))\n",
      "/Users/andy/base/pypism/pypism/profiles.py:111: RuntimeWarning: Mean of empty slice\n",
      "  rmsd = np.sqrt(np.nanmean((df[col1] - df[col2])**2))\n",
      "Processing profiles:  55%|██████████████████████████████████████████████████████████████████████████████████▌                                                                   | 99/180 [00:03<00:01, 41.72it/s]/Users/andy/base/pypism/pypism/profiles.py:111: RuntimeWarning: Mean of empty slice\n",
      "  rmsd = np.sqrt(np.nanmean((df[col1] - df[col2])**2))\n",
      "Processing profiles:  58%|██████████████████████████████████████████████████████████████████████████████████████▉                                                              | 105/180 [00:03<00:01, 41.87it/s]/Users/andy/base/pypism/pypism/profiles.py:111: RuntimeWarning: Mean of empty slice\n",
      "  rmsd = np.sqrt(np.nanmean((df[col1] - df[col2])**2))\n",
      "/Users/andy/base/pypism/pypism/profiles.py:111: RuntimeWarning: Mean of empty slice\n",
      "  rmsd = np.sqrt(np.nanmean((df[col1] - df[col2])**2))\n",
      "/Users/andy/base/pypism/pypism/profiles.py:111: RuntimeWarning: Mean of empty slice\n",
      "  rmsd = np.sqrt(np.nanmean((df[col1] - df[col2])**2))\n",
      "Processing profiles:  61%|███████████████████████████████████████████████████████████████████████████████████████████                                                          | 110/180 [00:03<00:01, 37.40it/s]/Users/andy/base/pypism/pypism/profiles.py:111: RuntimeWarning: Mean of empty slice\n",
      "  rmsd = np.sqrt(np.nanmean((df[col1] - df[col2])**2))\n",
      "Processing profiles:  64%|███████████████████████████████████████████████████████████████████████████████████████████████▏                                                     | 115/180 [00:03<00:01, 39.37it/s]/Users/andy/base/pypism/pypism/profiles.py:111: RuntimeWarning: Mean of empty slice\n",
      "  rmsd = np.sqrt(np.nanmean((df[col1] - df[col2])**2))\n",
      "/Users/andy/base/pypism/pypism/profiles.py:111: RuntimeWarning: Mean of empty slice\n",
      "  rmsd = np.sqrt(np.nanmean((df[col1] - df[col2])**2))\n",
      "Processing profiles:  71%|█████████████████████████████████████████████████████████████████████████████████████████████████████████▏                                           | 127/180 [00:03<00:01, 40.42it/s]/Users/andy/base/pypism/pypism/profiles.py:111: RuntimeWarning: Mean of empty slice\n",
      "  rmsd = np.sqrt(np.nanmean((df[col1] - df[col2])**2))\n",
      "Processing profiles:  77%|██████████████████████████████████████████████████████████████████████████████████████████████████████████████████▏                                  | 138/180 [00:04<00:00, 45.27it/s]/Users/andy/base/pypism/pypism/profiles.py:111: RuntimeWarning: Mean of empty slice\n",
      "  rmsd = np.sqrt(np.nanmean((df[col1] - df[col2])**2))\n",
      "Processing profiles:  79%|██████████████████████████████████████████████████████████████████████████████████████████████████████████████████████▎                              | 143/180 [00:04<00:00, 40.80it/s]/Users/andy/base/pypism/pypism/profiles.py:111: RuntimeWarning: Mean of empty slice\n",
      "  rmsd = np.sqrt(np.nanmean((df[col1] - df[col2])**2))\n",
      "/Users/andy/base/pypism/pypism/profiles.py:111: RuntimeWarning: Mean of empty slice\n",
      "  rmsd = np.sqrt(np.nanmean((df[col1] - df[col2])**2))\n",
      "Processing profiles:  85%|██████████████████████████████████████████████████████████████████████████████████████████████████████████████████████████████▋                      | 153/180 [00:04<00:00, 40.97it/s]/Users/andy/base/pypism/pypism/profiles.py:111: RuntimeWarning: Mean of empty slice\n",
      "  rmsd = np.sqrt(np.nanmean((df[col1] - df[col2])**2))\n",
      "/Users/andy/miniconda3/envs/pypism/lib/python3.12/site-packages/numpy/lib/function_base.py:2889: RuntimeWarning: Degrees of freedom <= 0 for slice\n",
      "  c = cov(x, y, rowvar, dtype=dtype)\n",
      "/Users/andy/miniconda3/envs/pypism/lib/python3.12/site-packages/numpy/lib/function_base.py:2748: RuntimeWarning: divide by zero encountered in divide\n",
      "  c *= np.true_divide(1, fact)\n",
      "/Users/andy/miniconda3/envs/pypism/lib/python3.12/site-packages/numpy/lib/function_base.py:2748: RuntimeWarning: invalid value encountered in multiply\n",
      "  c *= np.true_divide(1, fact)\n",
      "/Users/andy/base/pypism/pypism/profiles.py:111: RuntimeWarning: Mean of empty slice\n",
      "  rmsd = np.sqrt(np.nanmean((df[col1] - df[col2])**2))\n",
      "Processing profiles:  94%|███████████████████████████████████████████████████████████████████████████████████████████████████████████████████████████████████████████▉         | 169/180 [00:04<00:00, 42.86it/s]/Users/andy/base/pypism/pypism/profiles.py:111: RuntimeWarning: Mean of empty slice\n",
      "  rmsd = np.sqrt(np.nanmean((df[col1] - df[col2])**2))\n",
      "/Users/andy/base/pypism/pypism/profiles.py:111: RuntimeWarning: Mean of empty slice\n",
      "  rmsd = np.sqrt(np.nanmean((df[col1] - df[col2])**2))\n",
      "Processing profiles: 100%|█████████████████████████████████████████████████████████████████████████████████████████████████████████████████████████████████████████████████████| 180/180 [00:06<00:00, 28.73it/s]\n"
     ]
    }
   ],
   "source": [
    "n_jobs = 8\n",
    "with tqdm_joblib(tqdm(desc=\"Processing profiles\", total=len(profiles_gp))) as progress_bar:\n",
    "    result = Parallel(n_jobs=n_jobs)(\n",
    "        delayed(process_profile)(profile, p,\n",
    "            obs_ds,\n",
    "            sim_ds\n",
    "            )\n",
    "            for p, profile in profiles_gp.iterrows()\n",
    "        )\n",
    "#profiles_stats = pd.concat(result)"
   ]
  },
  {
   "cell_type": "code",
   "execution_count": 9,
   "id": "98252dc9-94ea-4580-85e2-885c7de0d85a",
   "metadata": {},
   "outputs": [],
   "source": [
    "from typing import Tuple\n",
    "\n",
    "# def calculate_stats(df: pd.DataFrame, col1: str, col2: str) -> pd.DataFrame:\n",
    "#     \"\"\"\n",
    "#     Calculate Pearson correlation and root mean square difference between two DataFrame columns.\n",
    "#     \"\"\"\n",
    "#     pearson_r = df[col2].corr(df[col1])\n",
    "#     rmsd = np.sqrt(np.nanmean((df[col1] - df[col2])**2))\n",
    "#     return pd.DataFrame(data=[[pearson_r, rmsd]], columns=[\"pearson_r\", \"rmsd\"])\n",
    "\n",
    "# def process_profile(profile, p: int, obs_ds: xr.Dataset, sim_ds: xr.Dataset, crs: str = \"epsg:3413\") -> Tuple[xr.Dataset, xr.Dataset, pd.DataFrame]:\n",
    "\n",
    "#     x, y = map(np.asarray, profile[\"geometry\"].xy)\n",
    "#     def extract_and_prepare(ds: xr.Dataset) -> xr.Dataset:\n",
    "#         ds_profile = ds.profiles.extract_profile(x, y)\n",
    "#         ds_profile = ds_profile.expand_dims(dim=\"profile_id\")\n",
    "#         ds_profile[\"profile_id\"] = [p]\n",
    "#         return ds_profile\n",
    "\n",
    "#     obs_profile = extract_and_prepare(obs_ds)\n",
    "#     sims_profile = extract_and_prepare(sim_ds)\n",
    "\n",
    "#     obs_df = obs_profile.to_dataframe().reset_index()\n",
    "#     sims_df = sims_profile.to_dataframe().reset_index()\n",
    "    \n",
    "#     profile_gp = gp.GeoDataFrame([profile], geometry=[profile.geometry], crs=crs)\n",
    "#     intersection_keys = list(set(obs_df.columns) & set(sims_df.columns))\n",
    "#     obs_sims_df = pd.merge(obs_df, sims_df, on=intersection_keys)\n",
    "#     stats = obs_sims_df.groupby(by=['exp_id', 'profile_id']).apply(calculate_stats, col1=\"velsurf_mag\", col2=\"v\", include_groups=False)\n",
    "#     stats_profile = stats.reset_index().assign(**profile_gp.iloc[0])\n",
    "#     return obs_profile, sims_profile, stats_profile\n"
   ]
  },
  {
   "cell_type": "code",
   "execution_count": 10,
   "id": "248be5a9-5985-4175-8fed-0a1437af895b",
   "metadata": {},
   "outputs": [
    {
     "name": "stdout",
     "output_type": "stream",
     "text": [
      "   profile_id                       name  length     clon      clat  \\\n",
      "0         148  Kangerdlugssuaq Gletscher  7208.0 -30.0285  67.50683   \n",
      "1         148  Kangerdlugssuaq Gletscher  7208.0 -30.0285  67.50683   \n",
      "\n",
      "   flightline  gtype  ftype  basin  \\\n",
      "0         2.0    0.0      0    3.3   \n",
      "1         2.0    0.0      0    3.3   \n",
      "\n",
      "                                            geometry exp_id  level_2  \\\n",
      "0  LINESTRING (483605.659 -2294795.528, 483889.74...  GRIMP        0   \n",
      "1  LINESTRING (483605.659 -2294795.528, 483889.74...  RAGIS        0   \n",
      "\n",
      "   pearson_r         rmsd  \n",
      "0   0.959318  1731.330296  \n",
      "1   0.930480  2241.289522  \n"
     ]
    }
   ],
   "source": [
    "    profile = profiles_gp.iloc[0]\n",
    "    p = 0\n",
    "    m = process_profile(profile, p,\n",
    "            obs_ds,\n",
    "            sim_ds\n",
    "            )\n",
    "    print(m[-1])"
   ]
  },
  {
   "cell_type": "code",
   "execution_count": 11,
   "id": "9d2252a3-61f5-4ea3-ae4d-049ec720f05d",
   "metadata": {},
   "outputs": [],
   "source": [
    "obs_profiles = [r[:][0] for r in result]\n",
    "sims_profiles = [r[:][1] for r in result]\n",
    "stats_profiles = pd.concat([r[:][-1] for r in result]).reset_index()\n"
   ]
  },
  {
   "cell_type": "code",
   "execution_count": null,
   "id": "b28db4c9-5f52-46ca-ab5b-e3766e0de726",
   "metadata": {},
   "outputs": [],
   "source": [
    "qgis_colormap = Path(\"../tests/data/test_qgis_colorramp.txt\")\n",
    "cmap = qgis2cmap(qgis_colormap, name=\"speeds\")\n",
    "\n",
    "# Shade from the northwest, with the sun 45 degrees from horizontal\n",
    "ls = LightSource(azdeg=315, altdeg=45)\n",
    "\n",
    "# sel = .sel(x=slice(-210000, 200000), y=slice(-2100000, -2400000))\n",
    "\n",
    "ds_dem = xr.open_dataset(Path(\"/Users/andy/Google Drive/My Drive/data/MCdataset/BedMachineGreenland-v5.nc\"))\n",
    "hs = hillshade(ds_dem[\"surface\"], zf=5, normalize=True)\n",
    "#hs.plot(cmap=\"Greys_r\", vmin=0, vmax=1, add_colorbar=False)\n",
    "\n",
    "jak_ds = obs_ds.sel(x=slice(-210000, 200000), y=slice(-2100000, -2400000))\n",
    "jak_speed = jak_ds[\"v\"].to_numpy()\n",
    "jak_surface = ds_dem[\"surface\"].interp_like(jak_ds).to_numpy()\n",
    "\n",
    "gris_surface = ds_dem[\"surface\"].interp_like(obs_ds).to_numpy()\n",
    "gris_speed = obs_ds[\"v\"].to_numpy()\n",
    "\n",
    "norm = colors.Normalize(vmin=10.0, vmax=1500.0)\n",
    "mapper = cm.ScalarMappable(norm=norm, cmap=cmap)\n",
    "speed_img = mapper.to_rgba(gris_speed)\n",
    "\n",
    "extent =[obs_ds[\"x\"][0].to_numpy(), obs_ds[\"x\"][-1].to_numpy(), obs_ds[\"y\"][-1].to_numpy(), obs_ds[\"y\"][0].to_numpy()]\n",
    "\n",
    "ls = LightSource(azdeg=315, altdeg=45)\n",
    "z = gris_surface\n",
    "v = gris_speed\n",
    "fig = plt.figure(figsize=(12, 8))\n",
    "ax = fig.add_subplot(111)\n",
    "rgb = ls.shade_rgb(speed_img, elevation=z, vert_exag=0.5, blend_mode='overlay')\n",
    "f = ax.imshow(rgb, extent=extent, origin=\"upper\")\n",
    "stats_profiles.plot(column=\"rmsd\", cmap=\"RdYlGn_r\", lw=2, ax=ax)"
   ]
  },
  {
   "cell_type": "code",
   "execution_count": null,
   "id": "30f9e626-c5c1-41ad-97cb-3e7ae409d04b",
   "metadata": {},
   "outputs": [],
   "source": [
    "stats_profiles.crs"
   ]
  },
  {
   "cell_type": "code",
   "execution_count": null,
   "id": "ff83b12c-d637-4574-83e0-2a5dd5e74b80",
   "metadata": {},
   "outputs": [],
   "source": [
    "sigma = 25\n",
    "for k, (_, profile) in enumerate(profiles_gp.iterrows()):\n",
    "    print(profile[\"name\"])\n",
    "    obs_profile = obs_profiles[k].squeeze()\n",
    "    sims_profile = sims_profiles[k].squeeze()\n",
    "    fig = plt.figure()\n",
    "    ax = fig.add_subplot(111)\n",
    "    ax.fill_between(obs_profile[\"profile_axis\"], obs_profile[\"v\"] - sigma * obs_profile[\"v_err\"], \n",
    "                    obs_profile[\"v\"] + sigma * obs_profile[\"v_err\"], color=\"0.75\")\n",
    "    obs_profile[\"v\"].plot.line(x=\"profile_axis\", marker=\"o\", ms=2, color=\"0.0\", ax=ax)\n",
    "    sims_profile[\"velsurf_mag\"].plot.line(x=\"profile_axis\", marker=\"o\", ms=2, ax=ax)\n",
    "    plt.title(profile[\"name\"])"
   ]
  },
  {
   "cell_type": "code",
   "execution_count": null,
   "id": "c81cec20-f7df-414d-8688-c1516dacafd2",
   "metadata": {},
   "outputs": [],
   "source": [
    "gp.GeoDataFrame(result[0][2], geometry=result[0][2][\"geometry\"], crs=\"epsg:3413\")"
   ]
  },
  {
   "cell_type": "code",
   "execution_count": null,
   "id": "0e7f2964-4839-4d3c-81e6-bd887561e6b0",
   "metadata": {},
   "outputs": [],
   "source": [
    "obs_profile"
   ]
  },
  {
   "cell_type": "code",
   "execution_count": null,
   "id": "4006ba03-c201-4597-838b-f089cdff5f1e",
   "metadata": {},
   "outputs": [],
   "source": [
    "profiles_gp"
   ]
  },
  {
   "cell_type": "code",
   "execution_count": null,
   "id": "4fd1bc35-fb9d-40f9-b998-8f3e81dc1a4b",
   "metadata": {},
   "outputs": [],
   "source": [
    "stats = obs_sims_df.groupby(by=['exp_id']).apply(calculate_stats, col1=\"velsurf_mag\", col2=\"v\", include_groups=False)"
   ]
  },
  {
   "cell_type": "code",
   "execution_count": null,
   "id": "da60dc39-fa89-41c5-9402-ab49e9f9e703",
   "metadata": {},
   "outputs": [],
   "source": [
    "intersection_keys = list(set(obs.columns) & set(sims.columns))\n",
    "merged = dd.merge(obs, sims, on=intersection_keys)\n",
    "from dask.distributed import Client, progress\n",
    "client = Client(threads_per_worker=4, n_workers=1)\n",
    "\n",
    "s = merged.groupby(by=['profile_id', 'profile', 'exp_id']).apply(calculate_rmsd, col1=\"velsurf_mag\", col2=\"v\", meta=(\"float\"))"
   ]
  },
  {
   "cell_type": "code",
   "execution_count": null,
   "id": "3f6cd49e-0de9-4583-bf9b-724e100d44a7",
   "metadata": {},
   "outputs": [],
   "source": [
    "obs_df = obs_profile.to_dataframe().reset_index()\n",
    "sims_df = sims_profile.to_dataframe().reset_index()\n",
    "intersection_keys = list(set(obs_df.columns) & set(sims_df.columns))\n",
    "obs_sims_df = pd.merge(obs_df, sims_df, on=intersection_keys)"
   ]
  },
  {
   "cell_type": "code",
   "execution_count": null,
   "id": "b77eba31-dcf3-474a-9b26-f23c23ecc6f3",
   "metadata": {},
   "outputs": [],
   "source": [
    "stats_df[0]"
   ]
  },
  {
   "cell_type": "code",
   "execution_count": null,
   "id": "dcf08654-4fc6-4668-ab63-fea77a32ac1a",
   "metadata": {},
   "outputs": [],
   "source": [
    "calculate_pearson_r(df, \"v\", \"velsurf_mag\")"
   ]
  },
  {
   "cell_type": "code",
   "execution_count": null,
   "id": "4267f3c9-abea-4acb-8d3b-662c1a519e49",
   "metadata": {},
   "outputs": [],
   "source": [
    "pd.Da"
   ]
  },
  {
   "cell_type": "code",
   "execution_count": null,
   "id": "998d0614-8d24-40f1-8a39-50377f8f851a",
   "metadata": {},
   "outputs": [],
   "source": [
    "df[\"velsurf_mag\"]"
   ]
  },
  {
   "cell_type": "code",
   "execution_count": null,
   "id": "3273dafc-3eb6-43fb-b15e-e46b2fec6c98",
   "metadata": {},
   "outputs": [],
   "source": [
    "np.corrcoef?"
   ]
  },
  {
   "cell_type": "code",
   "execution_count": null,
   "id": "356bbb3d-5831-4cf3-9e82-0523c09c78bc",
   "metadata": {},
   "outputs": [],
   "source": [
    "obs.keys()"
   ]
  },
  {
   "cell_type": "code",
   "execution_count": null,
   "id": "de362258-892b-4dcf-a86e-be967aa176e7",
   "metadata": {},
   "outputs": [],
   "source": [
    "calculate_rmsd(df, \"velsurf_mag\", \"v\")"
   ]
  },
  {
   "cell_type": "code",
   "execution_count": null,
   "id": "ced31054-96d1-4393-a859-607ffccd1fa8",
   "metadata": {},
   "outputs": [],
   "source": [
    "for _, df in m.groupby(by=[\"profile_id\", \"exp_id\"]):\n",
    "    print(df)"
   ]
  },
  {
   "cell_type": "code",
   "execution_count": null,
   "id": "4b771832-9b75-4cda-a548-f40f72f476b6",
   "metadata": {},
   "outputs": [],
   "source": [
    "\n",
    "def rmse(partition):\n",
    "    return np.sqrt(partition['velsurf_mag'].values**2 - partition[\"v\"].values**2)\n",
    "\n",
    "a =  m.groupby(by=[\"profile_id\", \"exp_id\"]).apply(rmse).reset_index()"
   ]
  },
  {
   "cell_type": "code",
   "execution_count": null,
   "id": "bac7b87b-6f14-4b3d-9a53-7395f6e6fced",
   "metadata": {},
   "outputs": [],
   "source": [
    "m = pd.merge(obs, sims, on=intersection_keys)"
   ]
  },
  {
   "cell_type": "code",
   "execution_count": null,
   "id": "8caa034d-5472-4179-ab48-23c8ebd5a5c3",
   "metadata": {},
   "outputs": [],
   "source": [
    "gp.GeoDataFrame?"
   ]
  },
  {
   "cell_type": "code",
   "execution_count": null,
   "id": "ea4d031f-8484-4c01-901e-8bcc7944f003",
   "metadata": {},
   "outputs": [],
   "source": [
    "profile = profiles_gp.iloc[0]"
   ]
  },
  {
   "cell_type": "markdown",
   "id": "e870c097-f013-4933-835a-eaad8d5f76d1",
   "metadata": {},
   "source": [
    "merged"
   ]
  },
  {
   "cell_type": "code",
   "execution_count": null,
   "id": "69ae88f8-e965-453c-8a50-7a0c65b496ac",
   "metadata": {},
   "outputs": [],
   "source": [
    "gp.GeoDataFrame([profile], geometry=[profile.geometry])"
   ]
  },
  {
   "cell_type": "code",
   "execution_count": null,
   "id": "74403cc2-f1d5-4940-904c-628c28038bc7",
   "metadata": {},
   "outputs": [],
   "source": [
    "gp.GeoDataFrame(pd.DataFrame(profile.drop(\"geometry\")).T, geometry=profile.geometry, crs=\"epsg:3413\")"
   ]
  },
  {
   "cell_type": "code",
   "execution_count": null,
   "id": "06815057-a5be-4ca1-aaf8-fb11f7fee526",
   "metadata": {},
   "outputs": [],
   "source": [
    "gp.GeoDataFrame.from_records(profile)"
   ]
  },
  {
   "cell_type": "code",
   "execution_count": null,
   "id": "b5563fac-b0c2-43cb-baa8-281994cf48f5",
   "metadata": {},
   "outputs": [],
   "source": []
  }
 ],
 "metadata": {
  "kernelspec": {
   "display_name": "Python 3 (ipykernel)",
   "language": "python",
   "name": "python3"
  },
  "language_info": {
   "codemirror_mode": {
    "name": "ipython",
    "version": 3
   },
   "file_extension": ".py",
   "mimetype": "text/x-python",
   "name": "python",
   "nbconvert_exporter": "python",
   "pygments_lexer": "ipython3",
   "version": "3.12.1"
  }
 },
 "nbformat": 4,
 "nbformat_minor": 5
}
