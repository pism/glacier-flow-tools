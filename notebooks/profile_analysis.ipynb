{
 "cells": [
  {
   "cell_type": "markdown",
   "id": "853cb685-f74f-415f-9061-9c9a1f74898e",
   "metadata": {},
   "source": [
    "# Extract profiles (Aschwanden, Truffer, and Fahnestock, 2016)"
   ]
  },
  {
   "cell_type": "code",
   "execution_count": null,
   "id": "e7a31451-dff4-4ea7-bdd9-a64192983132",
   "metadata": {},
   "outputs": [],
   "source": [
    "import cartopy.crs as ccrs\n",
    "from cartopy.mpl.ticker import (LongitudeFormatter, LatitudeFormatter,\n",
    "                                LatitudeLocator)\n",
    "import geopandas as gp\n",
    "from joblib import Parallel, delayed\n",
    "import numpy as np\n",
    "import pandas as pd\n",
    "from pathlib import Path\n",
    "import pylab as plt\n",
    "from matplotlib import colors, cm\n",
    "from matplotlib.colors import LightSource\n",
    "import matplotlib.ticker as mticker\n",
    "from tqdm.auto import tqdm\n",
    "import xarray as xr\n",
    "\n",
    "from pypism import profiles\n",
    "from pypism.profiles import process_profile\n",
    "from pypism.utils import preprocess_nc\n",
    "from pypism.hillshade import hillshade\n",
    "from pypism.utils import qgis2cmap, tqdm_joblib, blend_multiply"
   ]
  },
  {
   "cell_type": "markdown",
   "id": "19f0eda5-7299-4f22-baa0-66cca023319b",
   "metadata": {},
   "source": [
    "## Resolution along profiles"
   ]
  },
  {
   "cell_type": "code",
   "execution_count": null,
   "id": "e933df45-9218-4c8c-8b38-06603ded176d",
   "metadata": {},
   "outputs": [],
   "source": [
    "profile_resolution = 200 # m"
   ]
  },
  {
   "cell_type": "markdown",
   "id": "85b62990-1ce1-47fc-a61a-74f518721ca2",
   "metadata": {},
   "source": [
    "## Load profiles and segmentize"
   ]
  },
  {
   "cell_type": "code",
   "execution_count": null,
   "id": "4293ffc2-920d-4853-8a07-6376071d83d6",
   "metadata": {},
   "outputs": [],
   "source": [
    "profiles_path = Path(\"../data/greenland-flux-gates.gpkg\")\n",
    "profiles_gp = gp.read_file(profiles_path).rename(columns={\"id\": \"profile_id\"})\n",
    "geom = profiles_gp.segmentize(profile_resolution)\n",
    "profiles_gp = gp.GeoDataFrame(profiles_gp, geometry=geom)"
   ]
  },
  {
   "cell_type": "markdown",
   "id": "001bda2b-f2d7-4dac-8adf-1c5f366ac9b5",
   "metadata": {},
   "source": [
    "## Load observed velocities"
   ]
  },
  {
   "cell_type": "code",
   "execution_count": null,
   "id": "a3062049-fd94-4348-b1b1-e415450fc3c3",
   "metadata": {},
   "outputs": [],
   "source": [
    "obs_file = Path(\"/Users/andy/Google Drive/My Drive/data/ITS_LIVE/GRE_G0240_0000.nc\")\n",
    "obs_ds = xr.open_dataset(obs_file)"
   ]
  },
  {
   "cell_type": "markdown",
   "id": "8841f69f-a65b-4490-94c6-cdcc19e95862",
   "metadata": {},
   "source": [
    "## Load Ensemble Experiments"
   ]
  },
  {
   "cell_type": "code",
   "execution_count": null,
   "id": "30df9fed-6c19-4cc7-a0bb-a4585632a22b",
   "metadata": {},
   "outputs": [],
   "source": [
    "pism_files = list(Path(\"/Users/andy/Google Drive/My Drive/Projects/gris-calib/data\").glob(\"velsurf_mag_gris*.nc\"))\n",
    "sim_ds = xr.open_mfdataset(pism_files, \n",
    "                  preprocess=preprocess_nc,\n",
    "                  concat_dim=\"exp_id\",\n",
    "                  combine=\"nested\",\n",
    "                  parallel=True)"
   ]
  },
  {
   "cell_type": "markdown",
   "id": "0b7df8aa-a331-4835-9964-4e520ce5650a",
   "metadata": {},
   "source": [
    "## Extract all profiles"
   ]
  },
  {
   "cell_type": "code",
   "execution_count": null,
   "id": "1e7f4b43-994e-4732-8242-dc29a47928c7",
   "metadata": {},
   "outputs": [],
   "source": [
    "n_jobs = 8\n",
    "with tqdm_joblib(tqdm(desc=\"Processing profiles\", total=len(profiles_gp))) as progress_bar:\n",
    "    result = Parallel(n_jobs=n_jobs)(\n",
    "        delayed(process_profile)(profile,\n",
    "            obs_ds,\n",
    "            sim_ds\n",
    "            )\n",
    "            for _, profile in profiles_gp.iterrows()\n",
    "        )\n",
    "obs_profiles = [r[:][0] for r in result]\n",
    "sims_profiles = [r[:][1] for r in result]\n",
    "stats_profiles = pd.concat([r[:][-1] for r in result]).reset_index(drop=True)\n",
    "stats_profiles_points = gp.GeoDataFrame(stats_profiles, geometry=stats_profiles.geometry.centroid)"
   ]
  },
  {
   "cell_type": "markdown",
   "id": "3bb42e6e-f164-4ef5-a417-53e48df3c209",
   "metadata": {},
   "source": [
    "## Plot profiles"
   ]
  },
  {
   "cell_type": "code",
   "execution_count": null,
   "id": "ff83b12c-d637-4574-83e0-2a5dd5e74b80",
   "metadata": {},
   "outputs": [],
   "source": [
    "def plot_profile(ds: xr.Dataset):\n",
    "    fig = ds.profiles.plot(palette=\"Greens\", sigma=1)\n",
    "    profile_name = ds[\"profile_name\"].to_numpy()\n",
    "    fig.savefig(f\"{profile_name}_profile.pdf\")\n",
    "    plt.close()\n",
    "    del fig\n",
    "\n",
    "profiles = [xr.merge([obs_profile.squeeze(), sims_profile.squeeze()]) for obs_profile, sims_profile in zip(obs_profiles, sims_profiles)]\n",
    "for profile in profiles:\n",
    "    plot_profile(profile)\n",
    "# with tqdm_joblib(tqdm(desc=\"Processing profiles\", total=len(profiles_gp))) as progress_bar:\n",
    "#     result = Parallel(n_jobs=n_jobs)(\n",
    "#         delayed(plot_profile)(ds)\n",
    "#             for ds in profiles\n",
    "#         )"
   ]
  },
  {
   "cell_type": "code",
   "execution_count": null,
   "id": "233488b0-b07e-403e-be36-7d9b5f8765ac",
   "metadata": {},
   "outputs": [],
   "source": [
    "profile = stats_profiles[stats_profiles.index == 0].reset_index(drop=True)\n",
    "profile_centroid = gp.GeoDataFrame(profile, geometry=profile.geometry.centroid)"
   ]
  },
  {
   "cell_type": "code",
   "execution_count": null,
   "id": "acf45fb9-d2a2-4c26-9c61-83e97a0aa1f2",
   "metadata": {},
   "outputs": [],
   "source": [
    "def round(x: float, mult: int = 1000):\n",
    "    return np.round(x / mult) * mult\n",
    "\n",
    "def figure_extent(x_c: float, y_c: float, x_e: float = 50_000, y_e: float = 50_000):\n",
    "\n",
    "    return {\"x\": slice(x_c - x_e / 2, x_c + x_e /2), \"y\": slice(y_c + y_e / 2, y_c - y_e /2)}"
   ]
  },
  {
   "cell_type": "code",
   "execution_count": null,
   "id": "dec7dbdd-f450-4174-af22-5782c6fe3a24",
   "metadata": {},
   "outputs": [],
   "source": []
  },
  {
   "cell_type": "code",
   "execution_count": null,
   "id": "4ae4f689-8ed4-4336-9fa6-1c29bd3ab2cf",
   "metadata": {},
   "outputs": [],
   "source": [
    "\n",
    "qgis_colormap = Path(\"../data/speed-colorblind.txt\")\n",
    "cmap = qgis2cmap(qgis_colormap, name=\"speeds\")\n",
    "\n",
    "\n",
    "def plot_glacier(profile: gp.GeoDataFrame, surface: xr.Dataset, overlay: xr.Dataset, cmap=cmap, vmin: float = 10, vmax: float = 1500):\n",
    "\n",
    "    def get_extent(ds: xr.Dataset):\n",
    "        return [ds[\"x\"].values[0], ds[\"x\"].values[-1], ds[\"y\"].values[-1], ds[\"y\"].values[0]]\n",
    "\n",
    "    profile_centroid = gp.GeoDataFrame(profile, geometry=profile.geometry.centroid)\n",
    "    glacier_name = profile.iloc[0][\"name\"]\n",
    "    exp_id = profile.iloc[0][\"exp_id\"]\n",
    "    x_c = round(profile_centroid.geometry[0].x)\n",
    "    y_c = round(profile_centroid.geometry[0].y)\n",
    "    extent_slice = figure_extent(x_c, y_c)\n",
    "    crs = ccrs.NorthPolarStereo(central_longitude=-45, true_scale_latitude=70, globe=None)\n",
    "    # Shade from the northwest, with the sun 45 degrees from horizontal\n",
    "    light_source = LightSource(azdeg=315, altdeg=45)\n",
    "    glacier_overlay = overlay.sel(**extent_slice)\n",
    "    glacier_surface = surface.interp_like(glacier_overlay)\n",
    "\n",
    "    extent = get_extent(glacier_overlay)\n",
    "    norm = colors.Normalize(vmin=vmin, vmax=vmax)\n",
    "    mapper = cm.ScalarMappable(norm=norm, cmap=cmap)\n",
    "\n",
    "    v = mapper.to_rgba(glacier_overlay.to_numpy())\n",
    "    z = glacier_surface.to_numpy()\n",
    "    fig = plt.figure(figsize=(6.2, 6.2))\n",
    "    ax = fig.add_subplot(111, projection=crs)\n",
    "    rgb = light_source.shade_rgb(v, elevation=z, vert_exag=0.01, blend_mode=blend_multiply)\n",
    "    f = ax.imshow(rgb, extent=extent, origin=\"upper\", transform=crs)\n",
    "    profile.plot(ax=ax, color=\"k\", lw=1)\n",
    "    profile_centroid.plot(column=\"pearson_r\", vmin=0, vmax=1, cmap=\"RdYlGn\",  \n",
    "               markersize=30, legend=True,\n",
    "               missing_kwds={},\n",
    "               legend_kwds={\"shrink\": 0.5, \"pad\": 0.075, \"location\": \"bottom\", \"label\": \"Pearson r (1)\"}, ax=ax)\n",
    "    ax.annotate(glacier_name, (x_c, y_c) ,(10, 10), xycoords=\"data\", textcoords=\"offset points\")\n",
    "    ax.coastlines(linewidth=0.25, resolution=\"10m\")\n",
    "    ax.gridlines(draw_labels={\"top\": \"x\", \"right\": \"y\"}, \n",
    "                 dms=True,\n",
    "                 xlocs=np.arange(-50, 0, 1),\n",
    "                 ylocs=np.arange(50, 88, 1),\n",
    "                 x_inline=False, y_inline=False, \n",
    "                 rotate_labels=20,\n",
    "                 ls=\"dotted\", color=\"k\")\n",
    "\n",
    "    ax.set_extent(extent, crs=crs)\n",
    "    fig.tight_layout()\n",
    "    fig.savefig(f\"{glacier_name}_{exp_id}_speed.pdf\")\n",
    "    plt.close()\n",
    "    \n"
   ]
  },
  {
   "cell_type": "code",
   "execution_count": null,
   "id": "298d8539-02bc-4e16-b7df-25163940258a",
   "metadata": {},
   "outputs": [],
   "source": [
    "plot_glacier(profile, gris_ds[\"surface\"], obs_ds[\"v\"])\n"
   ]
  },
  {
   "cell_type": "code",
   "execution_count": null,
   "id": "3b7371e8-74df-45db-9a11-c66908c1fbc7",
   "metadata": {},
   "outputs": [],
   "source": []
  },
  {
   "cell_type": "code",
   "execution_count": null,
   "id": "25ea04fa-9b75-42dd-b619-e6af65c73436",
   "metadata": {},
   "outputs": [],
   "source": [
    "for index in range(len(stats_profiles)):\n",
    "    profile = stats_profiles[stats_profiles.index == index].reset_index(drop=True)\n",
    "    plot_glacier(profile, gris_ds[\"surface\"], obs_ds[\"v\"])"
   ]
  },
  {
   "cell_type": "code",
   "execution_count": null,
   "id": "b28db4c9-5f52-46ca-ab5b-e3766e0de726",
   "metadata": {},
   "outputs": [],
   "source": [
    "\n",
    "crs = ccrs.NorthPolarStereo(central_longitude=-45, true_scale_latitude=70, globe=None)\n",
    "\n",
    "\n",
    "qgis_colormap = Path(\"../data/speed-colorblind.txt\")\n",
    "cmap = qgis2cmap(qgis_colormap, name=\"speeds\")\n",
    "\n",
    "# Shade from the northwest, with the sun 45 degrees from horizontal\n",
    "light_source = LightSource(azdeg=315, altdeg=45)\n",
    "\n",
    "# sel = .sel(x=slice(-210000, 200000), y=slice(-2100000, -2400000))\n",
    "\n",
    "jak_extent = {\"x\": slice(-420000, 60000), \"y\": slice(-1600000, -2350000)}\n",
    "\n",
    "gris_target = obs_ds\n",
    "jak_target = gris_target.sel(**jak_extent)\n",
    "\n",
    "gris_ds = xr.open_dataset(Path(\"/Users/andy/Google Drive/My Drive/data/MCdataset/BedMachineGreenland-v5.nc\"))\n",
    "gris_surface = gris_ds[\"surface\"].interp_like(gris_target)\n",
    "gris_surface_hs = hillshade(gris_surface, zf=5)\n",
    "\n",
    "#hs = hillshade(gris_dem_ds[\"surface\"], zf=10)\n",
    "#hs.plot(cmap=\"Greys_r\", vmin=0, vmax=1, add_colorbar=False)\n",
    "\n",
    "jak_obs_ds = obs_ds.sel(**jak_extent)\n",
    "\n",
    "jak_speed = jak_obs_ds[\"v\"]\n",
    "jak_surface = gris_surface.interp_like(jak_target)\n",
    "jak_hs = hillshade(gris_surface.interp_like(jak_target))\n",
    "\n",
    "\n",
    "gris_speed = obs_ds[\"v\"]\n",
    "gris_hs = gris_surface_hs\n",
    "\n",
    "norm = colors.Normalize(vmin=10.0, vmax=1500.0)\n",
    "mapper = cm.ScalarMappable(norm=norm, cmap=cmap)\n",
    "\n",
    "speed_img = mapper.to_rgba(gris_speed)\n",
    "\n",
    "def get_extent(ds: xr.Dataset):\n",
    "    return [ds[\"x\"].values[0], ds[\"x\"].values[-1], ds[\"y\"].values[-1], ds[\"y\"].values[0]]\n",
    "\n",
    "def prepare(v, z, mapper):\n",
    "    return (mapper.to_rgba(v), z)\n",
    "\n",
    "extent = get_extent(jak_target)\n",
    "v, z = prepare(jak_speed.to_numpy(), jak_surface.to_numpy(), mapper)\n",
    "nx, ny = jak_speed.shape\n",
    "\n",
    "extent = get_extent(gris_target)\n",
    "v, z = prepare(gris_speed.to_numpy(), gris_surface.to_numpy(), mapper)\n",
    "nx, ny = gris_speed.shape\n",
    "\n"
   ]
  },
  {
   "cell_type": "code",
   "execution_count": null,
   "id": "84f9ed23-10ff-4c28-86e7-37b593171eeb",
   "metadata": {},
   "outputs": [],
   "source": [
    "import xarray as xr"
   ]
  },
  {
   "cell_type": "code",
   "execution_count": null,
   "id": "48f33052-d55c-4660-b54b-5dd37f6ae1b4",
   "metadata": {},
   "outputs": [],
   "source": [
    "ds = xr.open_dataset(\"https://its-live-data.s3-us-west-2.amazonaws.com/velocity_mosaic/landsat/v00.0/static/GRE_G0240_0000.nc\", engine=\"h5netcdf\", chunks=\"auto\")"
   ]
  },
  {
   "cell_type": "code",
   "execution_count": null,
   "id": "a3035ec9-8793-4ba4-a173-a0fd530dfa8f",
   "metadata": {},
   "outputs": [],
   "source": [
    "process_profile?"
   ]
  },
  {
   "cell_type": "code",
   "execution_count": null,
   "id": "22b71306-7497-476b-802f-f25f2a13d3cb",
   "metadata": {},
   "outputs": [],
   "source": [
    "profiles_gp"
   ]
  },
  {
   "cell_type": "code",
   "execution_count": null,
   "id": "1c2033bd-a1ec-4dbd-8158-cfb5518db0a3",
   "metadata": {},
   "outputs": [],
   "source": []
  }
 ],
 "metadata": {
  "kernelspec": {
   "display_name": "Python 3 (ipykernel)",
   "language": "python",
   "name": "python3"
  },
  "language_info": {
   "codemirror_mode": {
    "name": "ipython",
    "version": 3
   },
   "file_extension": ".py",
   "mimetype": "text/x-python",
   "name": "python",
   "nbconvert_exporter": "python",
   "pygments_lexer": "ipython3"
  }
 },
 "nbformat": 4,
 "nbformat_minor": 5
}
